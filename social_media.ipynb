{
  "cells": [
    {
      "cell_type": "code",
      "execution_count": 22,
      "metadata": {
        "colab": {
          "base_uri": "https://localhost:8080/"
        },
        "id": "d0BdNE1QHTs-",
        "outputId": "8838191c-5f9f-4442-f161-21e4874e5f7e"
      },
      "outputs": [
        {
          "name": "stdout",
          "output_type": "stream",
          "text": [
            "Requirement already satisfied: kagglehub in /usr/local/lib/python3.11/dist-packages (0.3.12)\n",
            "Requirement already satisfied: packaging in /usr/local/lib/python3.11/dist-packages (from kagglehub) (24.2)\n",
            "Requirement already satisfied: pyyaml in /usr/local/lib/python3.11/dist-packages (from kagglehub) (6.0.2)\n",
            "Requirement already satisfied: requests in /usr/local/lib/python3.11/dist-packages (from kagglehub) (2.32.3)\n",
            "Requirement already satisfied: tqdm in /usr/local/lib/python3.11/dist-packages (from kagglehub) (4.67.1)\n",
            "Requirement already satisfied: charset-normalizer<4,>=2 in /usr/local/lib/python3.11/dist-packages (from requests->kagglehub) (3.4.2)\n",
            "Requirement already satisfied: idna<4,>=2.5 in /usr/local/lib/python3.11/dist-packages (from requests->kagglehub) (3.10)\n",
            "Requirement already satisfied: urllib3<3,>=1.21.1 in /usr/local/lib/python3.11/dist-packages (from requests->kagglehub) (2.4.0)\n",
            "Requirement already satisfied: certifi>=2017.4.17 in /usr/local/lib/python3.11/dist-packages (from requests->kagglehub) (2025.4.26)\n",
            "Dataset downloaded and saved to /content/sentiment140.csv\n",
            "   sentiment          id                          date query_string  \\\n",
            "0          0  1467810369  Mon Apr 06 22:19:45 PDT 2009     NO_QUERY   \n",
            "1          0  1467810672  Mon Apr 06 22:19:49 PDT 2009     NO_QUERY   \n",
            "2          0  1467810917  Mon Apr 06 22:19:53 PDT 2009     NO_QUERY   \n",
            "3          0  1467811184  Mon Apr 06 22:19:57 PDT 2009     NO_QUERY   \n",
            "4          0  1467811193  Mon Apr 06 22:19:57 PDT 2009     NO_QUERY   \n",
            "\n",
            "              user                                               text  \n",
            "0  _TheSpecialOne_  @switchfoot http://twitpic.com/2y1zl - Awww, t...  \n",
            "1    scotthamilton  is upset that he can't update his Facebook by ...  \n",
            "2         mattycus  @Kenichan I dived many times for the ball. Man...  \n",
            "3          ElleCTF    my whole body feels itchy and like its on fire   \n",
            "4           Karoli  @nationwideclass no, it's not behaving at all....  \n"
          ]
        }
      ],
      "source": [
        "# Install kagglehub if not already installed\n",
        "!pip install kagglehub\n",
        "\n",
        "import kagglehub\n",
        "import pandas as pd\n",
        "import os\n",
        "\n",
        "# Download the Sentiment140 dataset\n",
        "dataset_path = kagglehub.dataset_download('kazanova/sentiment140')\n",
        "\n",
        "# The dataset is a CSV file named 'training.1600000.processed.noemoticon.csv'\n",
        "# Find the CSV file in the downloaded dataset directory\n",
        "csv_file = os.path.join(dataset_path, 'training.1600000.processed.noemoticon.csv')\n",
        "\n",
        "# Define column names as the dataset doesn't have a header\n",
        "cols = ['sentiment', 'id', 'date', 'query_string', 'user', 'text']\n",
        "\n",
        "# Read the CSV file with proper encoding\n",
        "df = pd.read_csv(csv_file, header=None, names=cols, encoding='latin-1')\n",
        "\n",
        "# Save the dataset to your Colab environment\n",
        "output_path = '/content/sentiment140.csv'\n",
        "df.to_csv(output_path, index=False)\n",
        "\n",
        "print(f\"Dataset downloaded and saved to {output_path}\")\n",
        "\n",
        "# Optional: Display the first few rows\n",
        "print(df.head())"
      ]
    },
    {
      "cell_type": "markdown",
      "metadata": {
        "id": "pCDAV4D1HTtG"
      },
      "source": [
        "The dataset used in this project is designed for sentiment analysis on Twitter. Each tweet in the dataset is annotated with sentiment labels, specifically 0 for negative sentiment and 4 for positive sentiment."
      ]
    },
    {
      "cell_type": "markdown",
      "metadata": {
        "id": "kbvaFTgIHTtJ"
      },
      "source": [
        "# Import Libraries and Read Data"
      ]
    },
    {
      "cell_type": "code",
      "execution_count": 23,
      "metadata": {
        "execution": {
          "iopub.execute_input": "2025-04-03T21:25:40.53328Z",
          "iopub.status.busy": "2025-04-03T21:25:40.532911Z",
          "iopub.status.idle": "2025-04-03T21:25:41.448209Z",
          "shell.execute_reply": "2025-04-03T21:25:41.447148Z",
          "shell.execute_reply.started": "2025-04-03T21:25:40.533252Z"
        },
        "id": "PLDMtWe-HTtJ",
        "trusted": true
      },
      "outputs": [],
      "source": [
        "import os\n",
        "import pandas as pd\n",
        "import numpy as np\n",
        "import matplotlib.pyplot as plt\n",
        "import seaborn as sns  # Visualization\n",
        "import warnings\n",
        "warnings.simplefilter (action = 'ignore') # To prevent warnings from appearing in the console output of the program"
      ]
    },
    {
      "cell_type": "code",
      "execution_count": 24,
      "metadata": {
        "colab": {
          "base_uri": "https://localhost:8080/"
        },
        "execution": {
          "iopub.execute_input": "2025-04-03T21:25:58.602782Z",
          "iopub.status.busy": "2025-04-03T21:25:58.602211Z",
          "iopub.status.idle": "2025-04-03T21:25:58.611028Z",
          "shell.execute_reply": "2025-04-03T21:25:58.609502Z",
          "shell.execute_reply.started": "2025-04-03T21:25:58.602741Z"
        },
        "id": "l-nlJv9lHTtK",
        "outputId": "3b0c400a-83f7-427f-f05a-d3af3ed62ea7",
        "trusted": true
      },
      "outputs": [
        {
          "name": "stdout",
          "output_type": "stream",
          "text": [
            "Data size: 210.27 MB\n"
          ]
        }
      ],
      "source": [
        "# To find out the size of the dataset file\n",
        "\n",
        "# The file was downloaded and saved to '/content/sentiment140.csv'\n",
        "file_size_mb = os.path.getsize('/content/sentiment140.csv') / (1024 * 1024)  # MB type\n",
        "print(f\"Data size: {file_size_mb:.2f} MB\")"
      ]
    },
    {
      "cell_type": "code",
      "execution_count": 25,
      "metadata": {
        "execution": {
          "iopub.execute_input": "2025-04-03T21:26:25.101035Z",
          "iopub.status.busy": "2025-04-03T21:26:25.100587Z",
          "iopub.status.idle": "2025-04-03T21:26:33.192718Z",
          "shell.execute_reply": "2025-04-03T21:26:33.191591Z",
          "shell.execute_reply.started": "2025-04-03T21:26:25.101005Z"
        },
        "id": "-kqE2qInHTtK",
        "trusted": true
      },
      "outputs": [],
      "source": [
        "# The dataset is read from a CSV file.\n",
        "df = pd.read_csv('/content/sentiment140.csv', encoding='ISO-8859-1')\n",
        "\n",
        "\n",
        "# Randomly sampling 10,000 rows from the dataset and data is saved into the df_sampled.\n",
        "\n",
        "df_sampled = df.sample(n=10000, random_state=1)"
      ]
    },
    {
      "cell_type": "markdown",
      "metadata": {
        "id": "fYIr5MraHTtK"
      },
      "source": [
        "* Due to the large size of the dataset and the specific ordering of negative and positive sentiment features, a random sample of the data was extracted using the df.sample filter.\n",
        "* ISO-8859-1 encoding was used to ensure proper handling of special characters in the file."
      ]
    },
    {
      "cell_type": "markdown",
      "metadata": {
        "id": "kJ_JpJnNHTtK"
      },
      "source": [
        "# EDA - Exploratory Data Analysis\n",
        "\n",
        "Exploratory Data Analysis involves analyzing the basic characteristics of the dataset, such as missing values, data types, and general structure. It also includes visualization and graphical representation to better understand the data."
      ]
    },
    {
      "cell_type": "code",
      "execution_count": 26,
      "metadata": {
        "colab": {
          "base_uri": "https://localhost:8080/",
          "height": 206
        },
        "execution": {
          "iopub.execute_input": "2025-04-03T21:26:51.859402Z",
          "iopub.status.busy": "2025-04-03T21:26:51.859071Z",
          "iopub.status.idle": "2025-04-03T21:26:51.892549Z",
          "shell.execute_reply": "2025-04-03T21:26:51.891265Z",
          "shell.execute_reply.started": "2025-04-03T21:26:51.859379Z"
        },
        "id": "RSLlSHGwHTtL",
        "outputId": "8c91ff90-99c0-4421-c605-8879decf884e",
        "trusted": true
      },
      "outputs": [
        {
          "data": {
            "application/vnd.google.colaboratory.intrinsic+json": {
              "repr_error": "0",
              "type": "dataframe",
              "variable_name": "df_sampled"
            },
            "text/html": [
              "\n",
              "  <div id=\"df-bb85cd4a-114c-4f22-a57e-f24a20680c49\" class=\"colab-df-container\">\n",
              "    <div>\n",
              "<style scoped>\n",
              "    .dataframe tbody tr th:only-of-type {\n",
              "        vertical-align: middle;\n",
              "    }\n",
              "\n",
              "    .dataframe tbody tr th {\n",
              "        vertical-align: top;\n",
              "    }\n",
              "\n",
              "    .dataframe thead th {\n",
              "        text-align: right;\n",
              "    }\n",
              "</style>\n",
              "<table border=\"1\" class=\"dataframe\">\n",
              "  <thead>\n",
              "    <tr style=\"text-align: right;\">\n",
              "      <th></th>\n",
              "      <th>sentiment</th>\n",
              "      <th>id</th>\n",
              "      <th>date</th>\n",
              "      <th>query_string</th>\n",
              "      <th>user</th>\n",
              "      <th>text</th>\n",
              "    </tr>\n",
              "  </thead>\n",
              "  <tbody>\n",
              "    <tr>\n",
              "      <th>514293</th>\n",
              "      <td>0</td>\n",
              "      <td>2190584004</td>\n",
              "      <td>Tue Jun 16 03:08:48 PDT 2009</td>\n",
              "      <td>NO_QUERY</td>\n",
              "      <td>Vicki_Gee</td>\n",
              "      <td>i miss nikki nu nu already  shes always there ...</td>\n",
              "    </tr>\n",
              "    <tr>\n",
              "      <th>142282</th>\n",
              "      <td>0</td>\n",
              "      <td>1881451988</td>\n",
              "      <td>Fri May 22 04:42:15 PDT 2009</td>\n",
              "      <td>NO_QUERY</td>\n",
              "      <td>PatCashin</td>\n",
              "      <td>So I had a dream last night. I  remember a sig...</td>\n",
              "    </tr>\n",
              "    <tr>\n",
              "      <th>403727</th>\n",
              "      <td>0</td>\n",
              "      <td>2058252964</td>\n",
              "      <td>Sat Jun 06 14:34:17 PDT 2009</td>\n",
              "      <td>NO_QUERY</td>\n",
              "      <td>deelectable</td>\n",
              "      <td>@girlyghost ohh poor sickly you   (((hugs)) ho...</td>\n",
              "    </tr>\n",
              "    <tr>\n",
              "      <th>649503</th>\n",
              "      <td>0</td>\n",
              "      <td>2237307600</td>\n",
              "      <td>Fri Jun 19 05:34:22 PDT 2009</td>\n",
              "      <td>NO_QUERY</td>\n",
              "      <td>justinekepa</td>\n",
              "      <td>it is raining again</td>\n",
              "    </tr>\n",
              "    <tr>\n",
              "      <th>610789</th>\n",
              "      <td>0</td>\n",
              "      <td>2224301193</td>\n",
              "      <td>Thu Jun 18 09:20:06 PDT 2009</td>\n",
              "      <td>NO_QUERY</td>\n",
              "      <td>cmatt007</td>\n",
              "      <td>@MissKeriBaby wish I was in LA right now</td>\n",
              "    </tr>\n",
              "  </tbody>\n",
              "</table>\n",
              "</div>\n",
              "    <div class=\"colab-df-buttons\">\n",
              "\n",
              "  <div class=\"colab-df-container\">\n",
              "    <button class=\"colab-df-convert\" onclick=\"convertToInteractive('df-bb85cd4a-114c-4f22-a57e-f24a20680c49')\"\n",
              "            title=\"Convert this dataframe to an interactive table.\"\n",
              "            style=\"display:none;\">\n",
              "\n",
              "  <svg xmlns=\"http://www.w3.org/2000/svg\" height=\"24px\" viewBox=\"0 -960 960 960\">\n",
              "    <path d=\"M120-120v-720h720v720H120Zm60-500h600v-160H180v160Zm220 220h160v-160H400v160Zm0 220h160v-160H400v160ZM180-400h160v-160H180v160Zm440 0h160v-160H620v160ZM180-180h160v-160H180v160Zm440 0h160v-160H620v160Z\"/>\n",
              "  </svg>\n",
              "    </button>\n",
              "\n",
              "  <style>\n",
              "    .colab-df-container {\n",
              "      display:flex;\n",
              "      gap: 12px;\n",
              "    }\n",
              "\n",
              "    .colab-df-convert {\n",
              "      background-color: #E8F0FE;\n",
              "      border: none;\n",
              "      border-radius: 50%;\n",
              "      cursor: pointer;\n",
              "      display: none;\n",
              "      fill: #1967D2;\n",
              "      height: 32px;\n",
              "      padding: 0 0 0 0;\n",
              "      width: 32px;\n",
              "    }\n",
              "\n",
              "    .colab-df-convert:hover {\n",
              "      background-color: #E2EBFA;\n",
              "      box-shadow: 0px 1px 2px rgba(60, 64, 67, 0.3), 0px 1px 3px 1px rgba(60, 64, 67, 0.15);\n",
              "      fill: #174EA6;\n",
              "    }\n",
              "\n",
              "    .colab-df-buttons div {\n",
              "      margin-bottom: 4px;\n",
              "    }\n",
              "\n",
              "    [theme=dark] .colab-df-convert {\n",
              "      background-color: #3B4455;\n",
              "      fill: #D2E3FC;\n",
              "    }\n",
              "\n",
              "    [theme=dark] .colab-df-convert:hover {\n",
              "      background-color: #434B5C;\n",
              "      box-shadow: 0px 1px 3px 1px rgba(0, 0, 0, 0.15);\n",
              "      filter: drop-shadow(0px 1px 2px rgba(0, 0, 0, 0.3));\n",
              "      fill: #FFFFFF;\n",
              "    }\n",
              "  </style>\n",
              "\n",
              "    <script>\n",
              "      const buttonEl =\n",
              "        document.querySelector('#df-bb85cd4a-114c-4f22-a57e-f24a20680c49 button.colab-df-convert');\n",
              "      buttonEl.style.display =\n",
              "        google.colab.kernel.accessAllowed ? 'block' : 'none';\n",
              "\n",
              "      async function convertToInteractive(key) {\n",
              "        const element = document.querySelector('#df-bb85cd4a-114c-4f22-a57e-f24a20680c49');\n",
              "        const dataTable =\n",
              "          await google.colab.kernel.invokeFunction('convertToInteractive',\n",
              "                                                    [key], {});\n",
              "        if (!dataTable) return;\n",
              "\n",
              "        const docLinkHtml = 'Like what you see? Visit the ' +\n",
              "          '<a target=\"_blank\" href=https://colab.research.google.com/notebooks/data_table.ipynb>data table notebook</a>'\n",
              "          + ' to learn more about interactive tables.';\n",
              "        element.innerHTML = '';\n",
              "        dataTable['output_type'] = 'display_data';\n",
              "        await google.colab.output.renderOutput(dataTable, element);\n",
              "        const docLink = document.createElement('div');\n",
              "        docLink.innerHTML = docLinkHtml;\n",
              "        element.appendChild(docLink);\n",
              "      }\n",
              "    </script>\n",
              "  </div>\n",
              "\n",
              "\n",
              "    <div id=\"df-b119f8b7-4455-40b5-b68f-46d97502b171\">\n",
              "      <button class=\"colab-df-quickchart\" onclick=\"quickchart('df-b119f8b7-4455-40b5-b68f-46d97502b171')\"\n",
              "                title=\"Suggest charts\"\n",
              "                style=\"display:none;\">\n",
              "\n",
              "<svg xmlns=\"http://www.w3.org/2000/svg\" height=\"24px\"viewBox=\"0 0 24 24\"\n",
              "     width=\"24px\">\n",
              "    <g>\n",
              "        <path d=\"M19 3H5c-1.1 0-2 .9-2 2v14c0 1.1.9 2 2 2h14c1.1 0 2-.9 2-2V5c0-1.1-.9-2-2-2zM9 17H7v-7h2v7zm4 0h-2V7h2v10zm4 0h-2v-4h2v4z\"/>\n",
              "    </g>\n",
              "</svg>\n",
              "      </button>\n",
              "\n",
              "<style>\n",
              "  .colab-df-quickchart {\n",
              "      --bg-color: #E8F0FE;\n",
              "      --fill-color: #1967D2;\n",
              "      --hover-bg-color: #E2EBFA;\n",
              "      --hover-fill-color: #174EA6;\n",
              "      --disabled-fill-color: #AAA;\n",
              "      --disabled-bg-color: #DDD;\n",
              "  }\n",
              "\n",
              "  [theme=dark] .colab-df-quickchart {\n",
              "      --bg-color: #3B4455;\n",
              "      --fill-color: #D2E3FC;\n",
              "      --hover-bg-color: #434B5C;\n",
              "      --hover-fill-color: #FFFFFF;\n",
              "      --disabled-bg-color: #3B4455;\n",
              "      --disabled-fill-color: #666;\n",
              "  }\n",
              "\n",
              "  .colab-df-quickchart {\n",
              "    background-color: var(--bg-color);\n",
              "    border: none;\n",
              "    border-radius: 50%;\n",
              "    cursor: pointer;\n",
              "    display: none;\n",
              "    fill: var(--fill-color);\n",
              "    height: 32px;\n",
              "    padding: 0;\n",
              "    width: 32px;\n",
              "  }\n",
              "\n",
              "  .colab-df-quickchart:hover {\n",
              "    background-color: var(--hover-bg-color);\n",
              "    box-shadow: 0 1px 2px rgba(60, 64, 67, 0.3), 0 1px 3px 1px rgba(60, 64, 67, 0.15);\n",
              "    fill: var(--button-hover-fill-color);\n",
              "  }\n",
              "\n",
              "  .colab-df-quickchart-complete:disabled,\n",
              "  .colab-df-quickchart-complete:disabled:hover {\n",
              "    background-color: var(--disabled-bg-color);\n",
              "    fill: var(--disabled-fill-color);\n",
              "    box-shadow: none;\n",
              "  }\n",
              "\n",
              "  .colab-df-spinner {\n",
              "    border: 2px solid var(--fill-color);\n",
              "    border-color: transparent;\n",
              "    border-bottom-color: var(--fill-color);\n",
              "    animation:\n",
              "      spin 1s steps(1) infinite;\n",
              "  }\n",
              "\n",
              "  @keyframes spin {\n",
              "    0% {\n",
              "      border-color: transparent;\n",
              "      border-bottom-color: var(--fill-color);\n",
              "      border-left-color: var(--fill-color);\n",
              "    }\n",
              "    20% {\n",
              "      border-color: transparent;\n",
              "      border-left-color: var(--fill-color);\n",
              "      border-top-color: var(--fill-color);\n",
              "    }\n",
              "    30% {\n",
              "      border-color: transparent;\n",
              "      border-left-color: var(--fill-color);\n",
              "      border-top-color: var(--fill-color);\n",
              "      border-right-color: var(--fill-color);\n",
              "    }\n",
              "    40% {\n",
              "      border-color: transparent;\n",
              "      border-right-color: var(--fill-color);\n",
              "      border-top-color: var(--fill-color);\n",
              "    }\n",
              "    60% {\n",
              "      border-color: transparent;\n",
              "      border-right-color: var(--fill-color);\n",
              "    }\n",
              "    80% {\n",
              "      border-color: transparent;\n",
              "      border-right-color: var(--fill-color);\n",
              "      border-bottom-color: var(--fill-color);\n",
              "    }\n",
              "    90% {\n",
              "      border-color: transparent;\n",
              "      border-bottom-color: var(--fill-color);\n",
              "    }\n",
              "  }\n",
              "</style>\n",
              "\n",
              "      <script>\n",
              "        async function quickchart(key) {\n",
              "          const quickchartButtonEl =\n",
              "            document.querySelector('#' + key + ' button');\n",
              "          quickchartButtonEl.disabled = true;  // To prevent multiple clicks.\n",
              "          quickchartButtonEl.classList.add('colab-df-spinner');\n",
              "          try {\n",
              "            const charts = await google.colab.kernel.invokeFunction(\n",
              "                'suggestCharts', [key], {});\n",
              "          } catch (error) {\n",
              "            console.error('Error during call to suggestCharts:', error);\n",
              "          }\n",
              "          quickchartButtonEl.classList.remove('colab-df-spinner');\n",
              "          quickchartButtonEl.classList.add('colab-df-quickchart-complete');\n",
              "        }\n",
              "        (() => {\n",
              "          let quickchartButtonEl =\n",
              "            document.querySelector('#df-b119f8b7-4455-40b5-b68f-46d97502b171 button');\n",
              "          quickchartButtonEl.style.display =\n",
              "            google.colab.kernel.accessAllowed ? 'block' : 'none';\n",
              "        })();\n",
              "      </script>\n",
              "    </div>\n",
              "\n",
              "    </div>\n",
              "  </div>\n"
            ],
            "text/plain": [
              "        sentiment          id                          date query_string  \\\n",
              "514293          0  2190584004  Tue Jun 16 03:08:48 PDT 2009     NO_QUERY   \n",
              "142282          0  1881451988  Fri May 22 04:42:15 PDT 2009     NO_QUERY   \n",
              "403727          0  2058252964  Sat Jun 06 14:34:17 PDT 2009     NO_QUERY   \n",
              "649503          0  2237307600  Fri Jun 19 05:34:22 PDT 2009     NO_QUERY   \n",
              "610789          0  2224301193  Thu Jun 18 09:20:06 PDT 2009     NO_QUERY   \n",
              "\n",
              "               user                                               text  \n",
              "514293    Vicki_Gee  i miss nikki nu nu already  shes always there ...  \n",
              "142282    PatCashin  So I had a dream last night. I  remember a sig...  \n",
              "403727  deelectable  @girlyghost ohh poor sickly you   (((hugs)) ho...  \n",
              "649503  justinekepa                               it is raining again   \n",
              "610789     cmatt007          @MissKeriBaby wish I was in LA right now   "
            ]
          },
          "execution_count": 26,
          "metadata": {},
          "output_type": "execute_result"
        }
      ],
      "source": [
        "df_sampled.head() # calls the first 5 rows of the df_sampled"
      ]
    },
    {
      "cell_type": "code",
      "execution_count": 27,
      "metadata": {
        "colab": {
          "base_uri": "https://localhost:8080/"
        },
        "execution": {
          "iopub.execute_input": "2025-04-03T21:27:16.515808Z",
          "iopub.status.busy": "2025-04-03T21:27:16.51546Z",
          "iopub.status.idle": "2025-04-03T21:27:16.548608Z",
          "shell.execute_reply": "2025-04-03T21:27:16.547037Z",
          "shell.execute_reply.started": "2025-04-03T21:27:16.515781Z"
        },
        "id": "nJmK_8ICHTtL",
        "outputId": "c24ae344-0c3c-45b7-a9ba-e75ec18c3ae5",
        "trusted": true
      },
      "outputs": [
        {
          "name": "stdout",
          "output_type": "stream",
          "text": [
            "<class 'pandas.core.frame.DataFrame'>\n",
            "Index: 10000 entries, 514293 to 1419723\n",
            "Data columns (total 6 columns):\n",
            " #   Column        Non-Null Count  Dtype \n",
            "---  ------        --------------  ----- \n",
            " 0   sentiment     10000 non-null  int64 \n",
            " 1   id            10000 non-null  int64 \n",
            " 2   date          10000 non-null  object\n",
            " 3   query_string  10000 non-null  object\n",
            " 4   user          10000 non-null  object\n",
            " 5   text          10000 non-null  object\n",
            "dtypes: int64(2), object(4)\n",
            "memory usage: 804.9+ KB\n"
          ]
        }
      ],
      "source": [
        "df_sampled.info() # accesses the basic information of the df_sampled"
      ]
    },
    {
      "cell_type": "markdown",
      "metadata": {
        "id": "D83TCuvSHTtM"
      },
      "source": [
        "* Dataset is non-null and provides information about data types."
      ]
    },
    {
      "cell_type": "code",
      "execution_count": 28,
      "metadata": {
        "colab": {
          "base_uri": "https://localhost:8080/",
          "height": 272
        },
        "execution": {
          "iopub.execute_input": "2025-04-03T21:27:33.765089Z",
          "iopub.status.busy": "2025-04-03T21:27:33.764672Z",
          "iopub.status.idle": "2025-04-03T21:27:33.781187Z",
          "shell.execute_reply": "2025-04-03T21:27:33.779011Z",
          "shell.execute_reply.started": "2025-04-03T21:27:33.765057Z"
        },
        "id": "cmWeWnzZHTtM",
        "outputId": "356448c8-47b3-45e4-cb00-44437b2bebcf",
        "trusted": true
      },
      "outputs": [
        {
          "data": {
            "text/html": [
              "<div>\n",
              "<style scoped>\n",
              "    .dataframe tbody tr th:only-of-type {\n",
              "        vertical-align: middle;\n",
              "    }\n",
              "\n",
              "    .dataframe tbody tr th {\n",
              "        vertical-align: top;\n",
              "    }\n",
              "\n",
              "    .dataframe thead th {\n",
              "        text-align: right;\n",
              "    }\n",
              "</style>\n",
              "<table border=\"1\" class=\"dataframe\">\n",
              "  <thead>\n",
              "    <tr style=\"text-align: right;\">\n",
              "      <th></th>\n",
              "      <th>0</th>\n",
              "    </tr>\n",
              "  </thead>\n",
              "  <tbody>\n",
              "    <tr>\n",
              "      <th>sentiment</th>\n",
              "      <td>0</td>\n",
              "    </tr>\n",
              "    <tr>\n",
              "      <th>id</th>\n",
              "      <td>0</td>\n",
              "    </tr>\n",
              "    <tr>\n",
              "      <th>date</th>\n",
              "      <td>0</td>\n",
              "    </tr>\n",
              "    <tr>\n",
              "      <th>query_string</th>\n",
              "      <td>0</td>\n",
              "    </tr>\n",
              "    <tr>\n",
              "      <th>user</th>\n",
              "      <td>0</td>\n",
              "    </tr>\n",
              "    <tr>\n",
              "      <th>text</th>\n",
              "      <td>0</td>\n",
              "    </tr>\n",
              "  </tbody>\n",
              "</table>\n",
              "</div><br><label><b>dtype:</b> int64</label>"
            ],
            "text/plain": [
              "sentiment       0\n",
              "id              0\n",
              "date            0\n",
              "query_string    0\n",
              "user            0\n",
              "text            0\n",
              "dtype: int64"
            ]
          },
          "execution_count": 28,
          "metadata": {},
          "output_type": "execute_result"
        }
      ],
      "source": [
        "df_sampled.isna().sum()  # calculates the total number of missing (NaN) values for each column in the df_sampled"
      ]
    },
    {
      "cell_type": "markdown",
      "metadata": {
        "id": "YyG3QEFSHTtM"
      },
      "source": [
        "* isna() method identifies missing values in the DataFrame and returns True for NaN values, and False otherwise.\n",
        "* .sum() method then counts the number of True values for each column, effectively adding up the missing values.\n",
        "* info() method verified that there were no null (NaN) values."
      ]
    },
    {
      "cell_type": "code",
      "execution_count": 29,
      "metadata": {
        "colab": {
          "base_uri": "https://localhost:8080/"
        },
        "execution": {
          "iopub.execute_input": "2025-04-03T21:27:52.634573Z",
          "iopub.status.busy": "2025-04-03T21:27:52.634196Z",
          "iopub.status.idle": "2025-04-03T21:27:52.659686Z",
          "shell.execute_reply": "2025-04-03T21:27:52.658297Z",
          "shell.execute_reply.started": "2025-04-03T21:27:52.634543Z"
        },
        "id": "YeY9pk_7HTtN",
        "outputId": "1d38f797-fb0a-4447-d4b3-b434e4fcbe8a",
        "trusted": true
      },
      "outputs": [
        {
          "data": {
            "text/plain": [
              "np.int64(0)"
            ]
          },
          "execution_count": 29,
          "metadata": {},
          "output_type": "execute_result"
        }
      ],
      "source": [
        "df_sampled.duplicated().sum() # checks for duplicate rows in the `df_sampled` DataFrame and counts the number of such duplicates"
      ]
    },
    {
      "cell_type": "markdown",
      "metadata": {
        "id": "DTcrBipzHTtN"
      },
      "source": [
        "* df_sampled.duplicated() returns a boolean Series indicating whether each row is a duplicate.\n",
        "* .sum() calculates the total number of duplicates by summing the True values in the Series."
      ]
    },
    {
      "cell_type": "code",
      "execution_count": 30,
      "metadata": {
        "colab": {
          "base_uri": "https://localhost:8080/"
        },
        "execution": {
          "iopub.execute_input": "2025-04-03T21:28:09.231388Z",
          "iopub.status.busy": "2025-04-03T21:28:09.230785Z",
          "iopub.status.idle": "2025-04-03T21:28:09.24062Z",
          "shell.execute_reply": "2025-04-03T21:28:09.239353Z",
          "shell.execute_reply.started": "2025-04-03T21:28:09.231347Z"
        },
        "id": "F1S9T94gHTtN",
        "outputId": "6c626b7a-f20d-4a3e-9b83-68591aa6ecdb",
        "trusted": true
      },
      "outputs": [
        {
          "name": "stdout",
          "output_type": "stream",
          "text": [
            "        sentiment         ids                          date      flag  \\\n",
            "514293          0  2190584004  Tue Jun 16 03:08:48 PDT 2009  NO_QUERY   \n",
            "142282          0  1881451988  Fri May 22 04:42:15 PDT 2009  NO_QUERY   \n",
            "403727          0  2058252964  Sat Jun 06 14:34:17 PDT 2009  NO_QUERY   \n",
            "649503          0  2237307600  Fri Jun 19 05:34:22 PDT 2009  NO_QUERY   \n",
            "610789          0  2224301193  Thu Jun 18 09:20:06 PDT 2009  NO_QUERY   \n",
            "\n",
            "               user                                             tweets  \n",
            "514293    Vicki_Gee  i miss nikki nu nu already  shes always there ...  \n",
            "142282    PatCashin  So I had a dream last night. I  remember a sig...  \n",
            "403727  deelectable  @girlyghost ohh poor sickly you   (((hugs)) ho...  \n",
            "649503  justinekepa                               it is raining again   \n",
            "610789     cmatt007          @MissKeriBaby wish I was in LA right now   \n"
          ]
        }
      ],
      "source": [
        "df_sampled.columns = ['sentiment', 'ids', 'date', 'flag', 'user', 'tweets']  # update column names more readable\n",
        "\n",
        "print(df_sampled.head())"
      ]
    },
    {
      "cell_type": "code",
      "execution_count": 31,
      "metadata": {
        "execution": {
          "iopub.execute_input": "2025-04-03T21:28:26.060819Z",
          "iopub.status.busy": "2025-04-03T21:28:26.060346Z",
          "iopub.status.idle": "2025-04-03T21:28:26.070022Z",
          "shell.execute_reply": "2025-04-03T21:28:26.06873Z",
          "shell.execute_reply.started": "2025-04-03T21:28:26.060782Z"
        },
        "id": "kMxLy9GTHTtN",
        "trusted": true
      },
      "outputs": [],
      "source": [
        "df_filtered = df_sampled[['sentiment', 'tweets']]"
      ]
    },
    {
      "cell_type": "markdown",
      "metadata": {
        "id": "bbRde8WHHTtO"
      },
      "source": [
        "* Creates a new DataFrame df_filtered by selecting only the 'sentiment' and 'tweets' columns from the df_sampled DataFrame\n",
        "* This operation filters the DataFrame to include only the relevant columns for further analysis"
      ]
    },
    {
      "cell_type": "code",
      "execution_count": 32,
      "metadata": {
        "colab": {
          "base_uri": "https://localhost:8080/"
        },
        "execution": {
          "iopub.execute_input": "2025-04-03T21:28:39.463713Z",
          "iopub.status.busy": "2025-04-03T21:28:39.463316Z",
          "iopub.status.idle": "2025-04-03T21:28:39.471314Z",
          "shell.execute_reply": "2025-04-03T21:28:39.469724Z",
          "shell.execute_reply.started": "2025-04-03T21:28:39.463675Z"
        },
        "id": "gGQG9NkSHTtO",
        "outputId": "d6d896c8-7e80-4a81-b701-7a9678fb8af4",
        "trusted": true
      },
      "outputs": [
        {
          "name": "stdout",
          "output_type": "stream",
          "text": [
            "        sentiment                                             tweets\n",
            "514293          0  i miss nikki nu nu already  shes always there ...\n",
            "142282          0  So I had a dream last night. I  remember a sig...\n",
            "403727          0  @girlyghost ohh poor sickly you   (((hugs)) ho...\n",
            "649503          0                               it is raining again \n",
            "610789          0          @MissKeriBaby wish I was in LA right now \n"
          ]
        }
      ],
      "source": [
        "print(df_filtered.head())\n"
      ]
    },
    {
      "cell_type": "markdown",
      "metadata": {
        "id": "7VoeKFjlHTtO"
      },
      "source": [
        "# Data Preprocessing\n",
        "\n",
        "Data Preprocessing involves steps such as cleaning the dataset, normalizing data, and splitting the dataset into training and test sets. This process ensures the data is prepared for effective analysis and modeling."
      ]
    },
    {
      "cell_type": "markdown",
      "metadata": {
        "id": "ILI-yO1nHTtO"
      },
      "source": [
        "## Convert to Lower Case\n",
        "\n"
      ]
    },
    {
      "cell_type": "code",
      "execution_count": 33,
      "metadata": {
        "colab": {
          "base_uri": "https://localhost:8080/",
          "height": 206
        },
        "execution": {
          "iopub.execute_input": "2025-04-03T21:29:06.661581Z",
          "iopub.status.busy": "2025-04-03T21:29:06.661227Z",
          "iopub.status.idle": "2025-04-03T21:29:06.683762Z",
          "shell.execute_reply": "2025-04-03T21:29:06.682524Z",
          "shell.execute_reply.started": "2025-04-03T21:29:06.661555Z"
        },
        "id": "w7jRIXY2HTtO",
        "outputId": "17caa2e8-9fbd-4dcf-ec5c-fc95e07488f9",
        "trusted": true
      },
      "outputs": [
        {
          "data": {
            "application/vnd.google.colaboratory.intrinsic+json": {
              "summary": "{\n  \"name\": \"df_filtered\",\n  \"rows\": 10000,\n  \"fields\": [\n    {\n      \"column\": \"sentiment\",\n      \"properties\": {\n        \"dtype\": \"number\",\n        \"std\": 2,\n        \"min\": 0,\n        \"max\": 4,\n        \"num_unique_values\": 2,\n        \"samples\": [\n          4,\n          0\n        ],\n        \"semantic_type\": \"\",\n        \"description\": \"\"\n      }\n    },\n    {\n      \"column\": \"tweets\",\n      \"properties\": {\n        \"dtype\": \"string\",\n        \"num_unique_values\": 9990,\n        \"samples\": [\n          \"@hbgirlj9 we all will miss the big fur ball \",\n          \"outskirts are bogged down with college work  but are looking forward to a great week ahead\"\n        ],\n        \"semantic_type\": \"\",\n        \"description\": \"\"\n      }\n    }\n  ]\n}",
              "type": "dataframe",
              "variable_name": "df_filtered"
            },
            "text/html": [
              "\n",
              "  <div id=\"df-7c55f20d-a5fc-4ac9-8864-74cc8beb136f\" class=\"colab-df-container\">\n",
              "    <div>\n",
              "<style scoped>\n",
              "    .dataframe tbody tr th:only-of-type {\n",
              "        vertical-align: middle;\n",
              "    }\n",
              "\n",
              "    .dataframe tbody tr th {\n",
              "        vertical-align: top;\n",
              "    }\n",
              "\n",
              "    .dataframe thead th {\n",
              "        text-align: right;\n",
              "    }\n",
              "</style>\n",
              "<table border=\"1\" class=\"dataframe\">\n",
              "  <thead>\n",
              "    <tr style=\"text-align: right;\">\n",
              "      <th></th>\n",
              "      <th>sentiment</th>\n",
              "      <th>tweets</th>\n",
              "    </tr>\n",
              "  </thead>\n",
              "  <tbody>\n",
              "    <tr>\n",
              "      <th>514293</th>\n",
              "      <td>0</td>\n",
              "      <td>i miss nikki nu nu already  shes always there ...</td>\n",
              "    </tr>\n",
              "    <tr>\n",
              "      <th>142282</th>\n",
              "      <td>0</td>\n",
              "      <td>so i had a dream last night. i  remember a sig...</td>\n",
              "    </tr>\n",
              "    <tr>\n",
              "      <th>403727</th>\n",
              "      <td>0</td>\n",
              "      <td>@girlyghost ohh poor sickly you   (((hugs)) ho...</td>\n",
              "    </tr>\n",
              "    <tr>\n",
              "      <th>649503</th>\n",
              "      <td>0</td>\n",
              "      <td>it is raining again</td>\n",
              "    </tr>\n",
              "    <tr>\n",
              "      <th>610789</th>\n",
              "      <td>0</td>\n",
              "      <td>@misskeribaby wish i was in la right now</td>\n",
              "    </tr>\n",
              "  </tbody>\n",
              "</table>\n",
              "</div>\n",
              "    <div class=\"colab-df-buttons\">\n",
              "\n",
              "  <div class=\"colab-df-container\">\n",
              "    <button class=\"colab-df-convert\" onclick=\"convertToInteractive('df-7c55f20d-a5fc-4ac9-8864-74cc8beb136f')\"\n",
              "            title=\"Convert this dataframe to an interactive table.\"\n",
              "            style=\"display:none;\">\n",
              "\n",
              "  <svg xmlns=\"http://www.w3.org/2000/svg\" height=\"24px\" viewBox=\"0 -960 960 960\">\n",
              "    <path d=\"M120-120v-720h720v720H120Zm60-500h600v-160H180v160Zm220 220h160v-160H400v160Zm0 220h160v-160H400v160ZM180-400h160v-160H180v160Zm440 0h160v-160H620v160ZM180-180h160v-160H180v160Zm440 0h160v-160H620v160Z\"/>\n",
              "  </svg>\n",
              "    </button>\n",
              "\n",
              "  <style>\n",
              "    .colab-df-container {\n",
              "      display:flex;\n",
              "      gap: 12px;\n",
              "    }\n",
              "\n",
              "    .colab-df-convert {\n",
              "      background-color: #E8F0FE;\n",
              "      border: none;\n",
              "      border-radius: 50%;\n",
              "      cursor: pointer;\n",
              "      display: none;\n",
              "      fill: #1967D2;\n",
              "      height: 32px;\n",
              "      padding: 0 0 0 0;\n",
              "      width: 32px;\n",
              "    }\n",
              "\n",
              "    .colab-df-convert:hover {\n",
              "      background-color: #E2EBFA;\n",
              "      box-shadow: 0px 1px 2px rgba(60, 64, 67, 0.3), 0px 1px 3px 1px rgba(60, 64, 67, 0.15);\n",
              "      fill: #174EA6;\n",
              "    }\n",
              "\n",
              "    .colab-df-buttons div {\n",
              "      margin-bottom: 4px;\n",
              "    }\n",
              "\n",
              "    [theme=dark] .colab-df-convert {\n",
              "      background-color: #3B4455;\n",
              "      fill: #D2E3FC;\n",
              "    }\n",
              "\n",
              "    [theme=dark] .colab-df-convert:hover {\n",
              "      background-color: #434B5C;\n",
              "      box-shadow: 0px 1px 3px 1px rgba(0, 0, 0, 0.15);\n",
              "      filter: drop-shadow(0px 1px 2px rgba(0, 0, 0, 0.3));\n",
              "      fill: #FFFFFF;\n",
              "    }\n",
              "  </style>\n",
              "\n",
              "    <script>\n",
              "      const buttonEl =\n",
              "        document.querySelector('#df-7c55f20d-a5fc-4ac9-8864-74cc8beb136f button.colab-df-convert');\n",
              "      buttonEl.style.display =\n",
              "        google.colab.kernel.accessAllowed ? 'block' : 'none';\n",
              "\n",
              "      async function convertToInteractive(key) {\n",
              "        const element = document.querySelector('#df-7c55f20d-a5fc-4ac9-8864-74cc8beb136f');\n",
              "        const dataTable =\n",
              "          await google.colab.kernel.invokeFunction('convertToInteractive',\n",
              "                                                    [key], {});\n",
              "        if (!dataTable) return;\n",
              "\n",
              "        const docLinkHtml = 'Like what you see? Visit the ' +\n",
              "          '<a target=\"_blank\" href=https://colab.research.google.com/notebooks/data_table.ipynb>data table notebook</a>'\n",
              "          + ' to learn more about interactive tables.';\n",
              "        element.innerHTML = '';\n",
              "        dataTable['output_type'] = 'display_data';\n",
              "        await google.colab.output.renderOutput(dataTable, element);\n",
              "        const docLink = document.createElement('div');\n",
              "        docLink.innerHTML = docLinkHtml;\n",
              "        element.appendChild(docLink);\n",
              "      }\n",
              "    </script>\n",
              "  </div>\n",
              "\n",
              "\n",
              "    <div id=\"df-58dd1b67-22e8-4125-b1c4-73c9d699718f\">\n",
              "      <button class=\"colab-df-quickchart\" onclick=\"quickchart('df-58dd1b67-22e8-4125-b1c4-73c9d699718f')\"\n",
              "                title=\"Suggest charts\"\n",
              "                style=\"display:none;\">\n",
              "\n",
              "<svg xmlns=\"http://www.w3.org/2000/svg\" height=\"24px\"viewBox=\"0 0 24 24\"\n",
              "     width=\"24px\">\n",
              "    <g>\n",
              "        <path d=\"M19 3H5c-1.1 0-2 .9-2 2v14c0 1.1.9 2 2 2h14c1.1 0 2-.9 2-2V5c0-1.1-.9-2-2-2zM9 17H7v-7h2v7zm4 0h-2V7h2v10zm4 0h-2v-4h2v4z\"/>\n",
              "    </g>\n",
              "</svg>\n",
              "      </button>\n",
              "\n",
              "<style>\n",
              "  .colab-df-quickchart {\n",
              "      --bg-color: #E8F0FE;\n",
              "      --fill-color: #1967D2;\n",
              "      --hover-bg-color: #E2EBFA;\n",
              "      --hover-fill-color: #174EA6;\n",
              "      --disabled-fill-color: #AAA;\n",
              "      --disabled-bg-color: #DDD;\n",
              "  }\n",
              "\n",
              "  [theme=dark] .colab-df-quickchart {\n",
              "      --bg-color: #3B4455;\n",
              "      --fill-color: #D2E3FC;\n",
              "      --hover-bg-color: #434B5C;\n",
              "      --hover-fill-color: #FFFFFF;\n",
              "      --disabled-bg-color: #3B4455;\n",
              "      --disabled-fill-color: #666;\n",
              "  }\n",
              "\n",
              "  .colab-df-quickchart {\n",
              "    background-color: var(--bg-color);\n",
              "    border: none;\n",
              "    border-radius: 50%;\n",
              "    cursor: pointer;\n",
              "    display: none;\n",
              "    fill: var(--fill-color);\n",
              "    height: 32px;\n",
              "    padding: 0;\n",
              "    width: 32px;\n",
              "  }\n",
              "\n",
              "  .colab-df-quickchart:hover {\n",
              "    background-color: var(--hover-bg-color);\n",
              "    box-shadow: 0 1px 2px rgba(60, 64, 67, 0.3), 0 1px 3px 1px rgba(60, 64, 67, 0.15);\n",
              "    fill: var(--button-hover-fill-color);\n",
              "  }\n",
              "\n",
              "  .colab-df-quickchart-complete:disabled,\n",
              "  .colab-df-quickchart-complete:disabled:hover {\n",
              "    background-color: var(--disabled-bg-color);\n",
              "    fill: var(--disabled-fill-color);\n",
              "    box-shadow: none;\n",
              "  }\n",
              "\n",
              "  .colab-df-spinner {\n",
              "    border: 2px solid var(--fill-color);\n",
              "    border-color: transparent;\n",
              "    border-bottom-color: var(--fill-color);\n",
              "    animation:\n",
              "      spin 1s steps(1) infinite;\n",
              "  }\n",
              "\n",
              "  @keyframes spin {\n",
              "    0% {\n",
              "      border-color: transparent;\n",
              "      border-bottom-color: var(--fill-color);\n",
              "      border-left-color: var(--fill-color);\n",
              "    }\n",
              "    20% {\n",
              "      border-color: transparent;\n",
              "      border-left-color: var(--fill-color);\n",
              "      border-top-color: var(--fill-color);\n",
              "    }\n",
              "    30% {\n",
              "      border-color: transparent;\n",
              "      border-left-color: var(--fill-color);\n",
              "      border-top-color: var(--fill-color);\n",
              "      border-right-color: var(--fill-color);\n",
              "    }\n",
              "    40% {\n",
              "      border-color: transparent;\n",
              "      border-right-color: var(--fill-color);\n",
              "      border-top-color: var(--fill-color);\n",
              "    }\n",
              "    60% {\n",
              "      border-color: transparent;\n",
              "      border-right-color: var(--fill-color);\n",
              "    }\n",
              "    80% {\n",
              "      border-color: transparent;\n",
              "      border-right-color: var(--fill-color);\n",
              "      border-bottom-color: var(--fill-color);\n",
              "    }\n",
              "    90% {\n",
              "      border-color: transparent;\n",
              "      border-bottom-color: var(--fill-color);\n",
              "    }\n",
              "  }\n",
              "</style>\n",
              "\n",
              "      <script>\n",
              "        async function quickchart(key) {\n",
              "          const quickchartButtonEl =\n",
              "            document.querySelector('#' + key + ' button');\n",
              "          quickchartButtonEl.disabled = true;  // To prevent multiple clicks.\n",
              "          quickchartButtonEl.classList.add('colab-df-spinner');\n",
              "          try {\n",
              "            const charts = await google.colab.kernel.invokeFunction(\n",
              "                'suggestCharts', [key], {});\n",
              "          } catch (error) {\n",
              "            console.error('Error during call to suggestCharts:', error);\n",
              "          }\n",
              "          quickchartButtonEl.classList.remove('colab-df-spinner');\n",
              "          quickchartButtonEl.classList.add('colab-df-quickchart-complete');\n",
              "        }\n",
              "        (() => {\n",
              "          let quickchartButtonEl =\n",
              "            document.querySelector('#df-58dd1b67-22e8-4125-b1c4-73c9d699718f button');\n",
              "          quickchartButtonEl.style.display =\n",
              "            google.colab.kernel.accessAllowed ? 'block' : 'none';\n",
              "        })();\n",
              "      </script>\n",
              "    </div>\n",
              "\n",
              "    </div>\n",
              "  </div>\n"
            ],
            "text/plain": [
              "        sentiment                                             tweets\n",
              "514293          0  i miss nikki nu nu already  shes always there ...\n",
              "142282          0  so i had a dream last night. i  remember a sig...\n",
              "403727          0  @girlyghost ohh poor sickly you   (((hugs)) ho...\n",
              "649503          0                               it is raining again \n",
              "610789          0          @misskeribaby wish i was in la right now "
            ]
          },
          "execution_count": 33,
          "metadata": {},
          "output_type": "execute_result"
        }
      ],
      "source": [
        "# Convert to lower case\n",
        "df_filtered['tweets'] = [token.lower() for token in df_filtered['tweets']]\n",
        "df_filtered.head(5)"
      ]
    },
    {
      "cell_type": "markdown",
      "metadata": {
        "id": "pN0Dl68pHTtP"
      },
      "source": [
        "## Remove @ Mentions and Hyperlinks\n",
        "\n"
      ]
    },
    {
      "cell_type": "code",
      "execution_count": 34,
      "metadata": {
        "execution": {
          "iopub.execute_input": "2025-04-03T21:29:24.476756Z",
          "iopub.status.busy": "2025-04-03T21:29:24.476374Z",
          "iopub.status.idle": "2025-04-03T21:29:24.49189Z",
          "shell.execute_reply": "2025-04-03T21:29:24.490649Z",
          "shell.execute_reply.started": "2025-04-03T21:29:24.476726Z"
        },
        "id": "nUOg5V2RHTtP",
        "trusted": true
      },
      "outputs": [],
      "source": [
        "# Remove @ mentions\n",
        "df_filtered['tweets'] = df_filtered['tweets'].replace('@[A-Za-z0-9]+', '', regex=True)"
      ]
    },
    {
      "cell_type": "code",
      "execution_count": 35,
      "metadata": {
        "colab": {
          "base_uri": "https://localhost:8080/",
          "height": 147
        },
        "execution": {
          "iopub.execute_input": "2025-04-03T21:29:39.234338Z",
          "iopub.status.busy": "2025-04-03T21:29:39.234004Z",
          "iopub.status.idle": "2025-04-03T21:29:39.263715Z",
          "shell.execute_reply": "2025-04-03T21:29:39.262514Z",
          "shell.execute_reply.started": "2025-04-03T21:29:39.234314Z"
        },
        "id": "jVxy9OnHHTtP",
        "outputId": "d99e9d7f-2e35-4f39-e279-217eec4c4ecb",
        "trusted": true
      },
      "outputs": [
        {
          "data": {
            "text/html": [
              "<div>\n",
              "<style scoped>\n",
              "    .dataframe tbody tr th:only-of-type {\n",
              "        vertical-align: middle;\n",
              "    }\n",
              "\n",
              "    .dataframe tbody tr th {\n",
              "        vertical-align: top;\n",
              "    }\n",
              "\n",
              "    .dataframe thead th {\n",
              "        text-align: right;\n",
              "    }\n",
              "</style>\n",
              "<table border=\"1\" class=\"dataframe\">\n",
              "  <thead>\n",
              "    <tr style=\"text-align: right;\">\n",
              "      <th></th>\n",
              "      <th>0</th>\n",
              "    </tr>\n",
              "  </thead>\n",
              "  <tbody>\n",
              "    <tr>\n",
              "      <th>sentiment</th>\n",
              "      <td>0</td>\n",
              "    </tr>\n",
              "    <tr>\n",
              "      <th>tweets</th>\n",
              "      <td>0</td>\n",
              "    </tr>\n",
              "  </tbody>\n",
              "</table>\n",
              "</div><br><label><b>dtype:</b> int64</label>"
            ],
            "text/plain": [
              "sentiment    0\n",
              "tweets       0\n",
              "dtype: int64"
            ]
          },
          "execution_count": 35,
          "metadata": {},
          "output_type": "execute_result"
        }
      ],
      "source": [
        "# Remove hyperlinks\n",
        "df_filtered['tweets'] = df_filtered['tweets'].replace(r'http\\S+', '', regex=True).replace(r'www\\S+', '', regex=True)\n",
        "\n",
        "# Verify removal\n",
        "found = df_filtered[df_filtered['tweets'].str.contains('http')]\n",
        "found.count()"
      ]
    },
    {
      "cell_type": "markdown",
      "metadata": {
        "id": "1fx1vFKXHTtP"
      },
      "source": [
        "## Remove Punctuations and Numbers\n",
        "\n"
      ]
    },
    {
      "cell_type": "code",
      "execution_count": 36,
      "metadata": {
        "execution": {
          "iopub.execute_input": "2025-04-03T21:29:53.32842Z",
          "iopub.status.busy": "2025-04-03T21:29:53.328092Z",
          "iopub.status.idle": "2025-04-03T21:29:53.366755Z",
          "shell.execute_reply": "2025-04-03T21:29:53.365436Z",
          "shell.execute_reply.started": "2025-04-03T21:29:53.328396Z"
        },
        "id": "690sIiUjHTtQ",
        "trusted": true
      },
      "outputs": [],
      "source": [
        "import string\n",
        "import re\n",
        "# Remove numbers\n",
        "texts = df_filtered['tweets'].copy()\n",
        "new_text = [re.sub('[0-9]+', '', text) for text in texts]\n",
        "df_filtered['tweets'] = new_text"
      ]
    },
    {
      "cell_type": "code",
      "execution_count": 37,
      "metadata": {
        "colab": {
          "base_uri": "https://localhost:8080/",
          "height": 241
        },
        "execution": {
          "iopub.execute_input": "2025-04-03T21:30:06.239658Z",
          "iopub.status.busy": "2025-04-03T21:30:06.239238Z",
          "iopub.status.idle": "2025-04-03T21:30:06.341399Z",
          "shell.execute_reply": "2025-04-03T21:30:06.340034Z",
          "shell.execute_reply.started": "2025-04-03T21:30:06.239628Z"
        },
        "id": "IvtCqlLsHTtQ",
        "outputId": "6774bd77-b7af-42c4-dc88-71c852b1359b",
        "trusted": true
      },
      "outputs": [
        {
          "data": {
            "text/html": [
              "<div>\n",
              "<style scoped>\n",
              "    .dataframe tbody tr th:only-of-type {\n",
              "        vertical-align: middle;\n",
              "    }\n",
              "\n",
              "    .dataframe tbody tr th {\n",
              "        vertical-align: top;\n",
              "    }\n",
              "\n",
              "    .dataframe thead th {\n",
              "        text-align: right;\n",
              "    }\n",
              "</style>\n",
              "<table border=\"1\" class=\"dataframe\">\n",
              "  <thead>\n",
              "    <tr style=\"text-align: right;\">\n",
              "      <th></th>\n",
              "      <th>tweets</th>\n",
              "    </tr>\n",
              "  </thead>\n",
              "  <tbody>\n",
              "    <tr>\n",
              "      <th>514293</th>\n",
              "      <td>i miss nikki nu nu already shes always there w...</td>\n",
              "    </tr>\n",
              "    <tr>\n",
              "      <th>142282</th>\n",
              "      <td>so i had a dream last night i remember a sign ...</td>\n",
              "    </tr>\n",
              "    <tr>\n",
              "      <th>403727</th>\n",
              "      <td>ohh poor sickly you hugs hope you feel a littl...</td>\n",
              "    </tr>\n",
              "    <tr>\n",
              "      <th>649503</th>\n",
              "      <td>it is raining again</td>\n",
              "    </tr>\n",
              "    <tr>\n",
              "      <th>610789</th>\n",
              "      <td>wish i was in la right now</td>\n",
              "    </tr>\n",
              "  </tbody>\n",
              "</table>\n",
              "</div><br><label><b>dtype:</b> object</label>"
            ],
            "text/plain": [
              "514293    i miss nikki nu nu already shes always there w...\n",
              "142282    so i had a dream last night i remember a sign ...\n",
              "403727    ohh poor sickly you hugs hope you feel a littl...\n",
              "649503                                  it is raining again\n",
              "610789                           wish i was in la right now\n",
              "Name: tweets, dtype: object"
            ]
          },
          "execution_count": 37,
          "metadata": {},
          "output_type": "execute_result"
        }
      ],
      "source": [
        "# Remove punctuations\n",
        "table = str.maketrans('', '', string.punctuation)\n",
        "texts = df_filtered['tweets'].copy()\n",
        "new_text = [' '.join([w.translate(table) for w in text.split()]) for text in texts]\n",
        "df_filtered['tweets'] = new_text\n",
        "df_filtered['tweets'].head(5)"
      ]
    },
    {
      "cell_type": "markdown",
      "metadata": {
        "id": "b7RL0RWxHTtR"
      },
      "source": [
        "**NLTK (Natural Language Toolkit)** library for text processing.\n",
        "\n",
        "* **nltk.download('stopwords')**: Downloads the NLTK list of stopwords. This list contains common words like 'the', 'is', and 'and' that are usually irrelevant for text analysis.\n",
        "* **nltk.download('punkt')**: Downloads the 'punkt' model necessary for text tokenization. This model is used for splitting text into sentences and words.\n",
        "* **nltk.download('wordnet')**: Downloads the WordNet lexical database. This database contains semantic relationships between words and is used for lemmatization (reducing words to their base or root form)."
      ]
    },
    {
      "cell_type": "code",
      "execution_count": 38,
      "metadata": {
        "execution": {
          "iopub.execute_input": "2025-04-03T21:30:28.093892Z",
          "iopub.status.busy": "2025-04-03T21:30:28.093471Z",
          "iopub.status.idle": "2025-04-03T21:30:29.062614Z",
          "shell.execute_reply": "2025-04-03T21:30:29.061566Z",
          "shell.execute_reply.started": "2025-04-03T21:30:28.093856Z"
        },
        "id": "XSksn23GHTtR",
        "trusted": true
      },
      "outputs": [],
      "source": [
        "# import libraries for performing text search and manipulation tasks, such as pattern matching, text extraction, and text substitution\n",
        "\n",
        "import re\n",
        "import nltk\n",
        "from nltk.corpus import stopwords\n",
        "from nltk.tokenize import word_tokenize\n",
        "from nltk.stem import WordNetLemmatizer\n",
        "from nltk.corpus import wordnet"
      ]
    },
    {
      "cell_type": "code",
      "execution_count": 39,
      "metadata": {
        "colab": {
          "base_uri": "https://localhost:8080/"
        },
        "execution": {
          "iopub.execute_input": "2025-04-03T21:34:45.924373Z",
          "iopub.status.busy": "2025-04-03T21:34:45.923977Z",
          "iopub.status.idle": "2025-04-03T21:34:46.145531Z",
          "shell.execute_reply": "2025-04-03T21:34:46.144322Z",
          "shell.execute_reply.started": "2025-04-03T21:34:45.924341Z"
        },
        "id": "slsVGpI_HTtS",
        "outputId": "417a4a3f-e168-4d10-d855-9141379c7956",
        "trusted": true
      },
      "outputs": [
        {
          "name": "stderr",
          "output_type": "stream",
          "text": [
            "[nltk_data] Downloading package stopwords to /root/nltk_data...\n",
            "[nltk_data]   Package stopwords is already up-to-date!\n",
            "[nltk_data] Downloading package punkt to /root/nltk_data...\n",
            "[nltk_data]   Package punkt is already up-to-date!\n",
            "[nltk_data] Downloading package wordnet to /root/nltk_data...\n",
            "[nltk_data]   Package wordnet is already up-to-date!\n",
            "[nltk_data] Downloading package averaged_perceptron_tagger to\n",
            "[nltk_data]     /root/nltk_data...\n",
            "[nltk_data]   Package averaged_perceptron_tagger is already up-to-\n",
            "[nltk_data]       date!\n",
            "[nltk_data] Downloading package omw-1.4 to /root/nltk_data...\n",
            "[nltk_data]   Package omw-1.4 is already up-to-date!\n"
          ]
        },
        {
          "data": {
            "text/plain": [
              "True"
            ]
          },
          "execution_count": 39,
          "metadata": {},
          "output_type": "execute_result"
        }
      ],
      "source": [
        "# necessary NLTK data\n",
        "\n",
        "nltk.download('stopwords')\n",
        "nltk.download('punkt')\n",
        "nltk.download('wordnet')\n",
        "nltk.download('averaged_perceptron_tagger')\n",
        "nltk.download('omw-1.4')"
      ]
    },
    {
      "cell_type": "code",
      "execution_count": 40,
      "metadata": {
        "colab": {
          "base_uri": "https://localhost:8080/"
        },
        "execution": {
          "iopub.execute_input": "2025-04-03T21:42:49.483049Z",
          "iopub.status.busy": "2025-04-03T21:42:49.482572Z",
          "iopub.status.idle": "2025-04-03T21:42:50.001619Z",
          "shell.execute_reply": "2025-04-03T21:42:50.000122Z",
          "shell.execute_reply.started": "2025-04-03T21:42:49.483012Z"
        },
        "id": "MGGF7HauHTtT",
        "outputId": "7be1103e-320a-42a6-d9f2-3e7ca772c889",
        "trusted": true
      },
      "outputs": [
        {
          "name": "stderr",
          "output_type": "stream",
          "text": [
            "[nltk_data] Downloading package punkt_tab to /root/nltk_data...\n",
            "[nltk_data]   Package punkt_tab is already up-to-date!\n"
          ]
        },
        {
          "name": "stdout",
          "output_type": "stream",
          "text": [
            "                                                   tweets  \\\n",
            "514293  i miss nikki nu nu already shes always there w...   \n",
            "142282  so i had a dream last night i remember a sign ...   \n",
            "403727  ohh poor sickly you hugs hope you feel a littl...   \n",
            "649503                                it is raining again   \n",
            "610789                         wish i was in la right now   \n",
            "\n",
            "                                                    words  \n",
            "514293  [i, miss, nikki, nu, nu, already, shes, always...  \n",
            "142282  [so, i, had, a, dream, last, night, i, remembe...  \n",
            "403727  [ohh, poor, sickly, you, hugs, hope, you, feel...  \n",
            "649503                           [it, is, raining, again]  \n",
            "610789                 [wish, i, was, in, la, right, now]  \n"
          ]
        }
      ],
      "source": [
        "import nltk\n",
        "nltk.download('punkt_tab')\n",
        "\n",
        "# word tokenization of tweets\n",
        "df_filtered['words'] = df_filtered['tweets'].apply(word_tokenize)\n",
        "\n",
        "print(df_filtered[['tweets', 'words']].head())"
      ]
    },
    {
      "cell_type": "markdown",
      "metadata": {
        "id": "8Vt--Ws_HTtU"
      },
      "source": [
        "## Stopwords ve Lemmatizer\n",
        "\n"
      ]
    },
    {
      "cell_type": "code",
      "execution_count": 41,
      "metadata": {
        "colab": {
          "base_uri": "https://localhost:8080/"
        },
        "execution": {
          "iopub.execute_input": "2025-04-03T21:31:29.166211Z",
          "iopub.status.busy": "2025-04-03T21:31:29.165745Z",
          "iopub.status.idle": "2025-04-03T21:31:29.213772Z",
          "shell.execute_reply": "2025-04-03T21:31:29.212613Z",
          "shell.execute_reply.started": "2025-04-03T21:31:29.166182Z"
        },
        "id": "gWcHH3vwHTtU",
        "outputId": "4fcfeedb-15d3-4417-d0a4-6ed4c7bf746f",
        "trusted": true
      },
      "outputs": [
        {
          "name": "stdout",
          "output_type": "stream",
          "text": [
            "                                                   tweets  \\\n",
            "514293  i miss nikki nu nu already shes always there w...   \n",
            "142282  so i had a dream last night i remember a sign ...   \n",
            "403727  ohh poor sickly you hugs hope you feel a littl...   \n",
            "649503                                it is raining again   \n",
            "610789                         wish i was in la right now   \n",
            "\n",
            "                                                    words  \\\n",
            "514293  [i, miss, nikki, nu, nu, already, shes, always...   \n",
            "142282  [so, i, had, a, dream, last, night, i, remembe...   \n",
            "403727  [ohh, poor, sickly, you, hugs, hope, you, feel...   \n",
            "649503                           [it, is, raining, again]   \n",
            "610789                 [wish, i, was, in, la, right, now]   \n",
            "\n",
            "                                            words_cleaned  \n",
            "514293  [miss, nikki, nu, nu, already, shes, always, n...  \n",
            "142282  [dream, last, night, remember, sign, clearly, ...  \n",
            "403727  [ohh, poor, sickly, hugs, hope, feel, little, ...  \n",
            "649503                                          [raining]  \n",
            "610789                                  [wish, la, right]  \n"
          ]
        }
      ],
      "source": [
        "# stopwords list\n",
        "stop_words = set(stopwords.words('english'))\n",
        "\n",
        "# cleaning\n",
        "df_filtered['words_cleaned'] = df_filtered['words'].apply(lambda words: [word for word in words if word.lower() not in stop_words])\n",
        "\n",
        "\n",
        "print(df_filtered[['tweets', 'words', 'words_cleaned']].head())"
      ]
    },
    {
      "cell_type": "code",
      "execution_count": 42,
      "metadata": {
        "colab": {
          "base_uri": "https://localhost:8080/"
        },
        "execution": {
          "iopub.execute_input": "2025-04-03T21:42:57.698354Z",
          "iopub.status.busy": "2025-04-03T21:42:57.69791Z",
          "iopub.status.idle": "2025-04-03T21:43:11.066176Z",
          "shell.execute_reply": "2025-04-03T21:43:11.064695Z",
          "shell.execute_reply.started": "2025-04-03T21:42:57.698317Z"
        },
        "id": "l4ZjE5nbHTtU",
        "outputId": "6c640d59-f65e-4aab-f5fd-7b131cd9a32d",
        "trusted": true
      },
      "outputs": [
        {
          "name": "stderr",
          "output_type": "stream",
          "text": [
            "[nltk_data] Downloading package averaged_perceptron_tagger_eng to\n",
            "[nltk_data]     /root/nltk_data...\n",
            "[nltk_data]   Unzipping taggers/averaged_perceptron_tagger_eng.zip.\n"
          ]
        },
        {
          "name": "stdout",
          "output_type": "stream",
          "text": [
            "                                            words_cleaned  \\\n",
            "514293  [miss, nikki, nu, nu, already, shes, always, n...   \n",
            "142282  [dream, last, night, remember, sign, clearly, ...   \n",
            "403727  [ohh, poor, sickly, hugs, hope, feel, little, ...   \n",
            "649503                                          [raining]   \n",
            "610789                                  [wish, la, right]   \n",
            "67315   [nala, olowalu, still, full, tummy, bread, bas...   \n",
            "833521  [site, doesnt, seem, want, load, must, getting...   \n",
            "256032           [time, sleep, hav, actually, work, tmrw]   \n",
            "657012                                    [oxford, month]   \n",
            "980587  [time, cup, tea, fruit, bagels, im, going, tur...   \n",
            "\n",
            "                                         words_lemmatized  \n",
            "514293  [miss, nikki, nu, nu, already, shes, always, n...  \n",
            "142282  [dream, last, night, remember, sign, clearly, ...  \n",
            "403727  [ohh, poor, sickly, hug, hope, feel, little, w...  \n",
            "649503                                             [rain]  \n",
            "610789                                  [wish, la, right]  \n",
            "67315   [nala, olowalu, still, full, tummy, bread, bas...  \n",
            "833521  [site, doesnt, seem, want, load, must, get, lo...  \n",
            "256032           [time, sleep, hav, actually, work, tmrw]  \n",
            "657012                                    [oxford, month]  \n",
            "980587  [time, cup, tea, fruit, bagel, im, go, turn, d...  \n"
          ]
        }
      ],
      "source": [
        "import nltk\n",
        "from nltk.corpus import stopwords\n",
        "from nltk.tokenize import word_tokenize\n",
        "from nltk.stem import WordNetLemmatizer\n",
        "from nltk.corpus import wordnet\n",
        "\n",
        "# Download the necessary NLTK resource\n",
        "#nltk.download('averaged_perceptron_tagger') # original code, downloads the wrong package\n",
        "nltk.download('averaged_perceptron_tagger_eng') # downloads the eng version\n",
        "\n",
        "# Lemmatizer object\n",
        "lemmatizer = WordNetLemmatizer()\n",
        "\n",
        "# function according to the type of words such as noun, verb etc.\n",
        "def get_wordnet_pos(word):\n",
        "    tag = nltk.pos_tag([word])[0][1][0].upper()\n",
        "    tag_dict = {\"J\": wordnet.ADJ,\n",
        "                \"N\": wordnet.NOUN,\n",
        "                \"V\": wordnet.VERB,\n",
        "                \"R\": wordnet.ADV}\n",
        "    return tag_dict.get(tag, wordnet.NOUN)\n",
        "\n",
        "# Lemmatization\n",
        "df_filtered['words_lemmatized'] = df_filtered['words_cleaned'].apply(lambda words: [lemmatizer.lemmatize(word, get_wordnet_pos(word)) for word in words])\n",
        "\n",
        "\n",
        "print(df_filtered[['words_cleaned', 'words_lemmatized']].head(10))"
      ]
    },
    {
      "cell_type": "markdown",
      "metadata": {
        "id": "vJiEbIikHTtV"
      },
      "source": [
        "There are changes like:\n",
        "\n",
        "* worked -> work\n",
        "* got -> get\n",
        "* thinks -> think"
      ]
    },
    {
      "cell_type": "markdown",
      "metadata": {
        "id": "NTQgyyBNHTtl"
      },
      "source": [
        "## REMOVE EXTRA SPACE\n",
        "\n"
      ]
    },
    {
      "cell_type": "code",
      "execution_count": 43,
      "metadata": {
        "colab": {
          "base_uri": "https://localhost:8080/"
        },
        "execution": {
          "iopub.execute_input": "2025-04-03T21:46:35.895023Z",
          "iopub.status.busy": "2025-04-03T21:46:35.894585Z",
          "iopub.status.idle": "2025-04-03T21:46:35.913353Z",
          "shell.execute_reply": "2025-04-03T21:46:35.911821Z",
          "shell.execute_reply.started": "2025-04-03T21:46:35.894993Z"
        },
        "id": "a5Cu_jrmHTtl",
        "outputId": "182a0d0a-3c82-493f-fadc-f2687734e69d",
        "trusted": true
      },
      "outputs": [
        {
          "name": "stdout",
          "output_type": "stream",
          "text": [
            "                                         processed_tweets\n",
            "514293  miss nikki nu nu already shes always need than...\n",
            "142282  dream last night remember sign clearly told ge...\n",
            "403727     ohh poor sickly hug hope feel little well soon\n",
            "649503                                               rain\n",
            "610789                                      wish la right\n"
          ]
        }
      ],
      "source": [
        "# removes extra space\n",
        "df_filtered['processed_tweets'] = df_filtered['words_lemmatized'].apply(lambda words: ' '.join(words).strip())\n",
        "\n",
        "\n",
        "print(df_filtered[['processed_tweets']].head())"
      ]
    },
    {
      "cell_type": "markdown",
      "metadata": {
        "id": "A2CGEzhKHTtm"
      },
      "source": [
        "## REMOVE RARE WORDS\n",
        "\n"
      ]
    },
    {
      "cell_type": "code",
      "execution_count": 44,
      "metadata": {
        "colab": {
          "base_uri": "https://localhost:8080/"
        },
        "execution": {
          "iopub.execute_input": "2025-04-03T21:47:00.356867Z",
          "iopub.status.busy": "2025-04-03T21:47:00.356427Z",
          "iopub.status.idle": "2025-04-03T21:47:00.517444Z",
          "shell.execute_reply": "2025-04-03T21:47:00.516281Z",
          "shell.execute_reply.started": "2025-04-03T21:47:00.356814Z"
        },
        "id": "1nkY6FmBHTtm",
        "outputId": "1b157646-3a73-4963-d32e-a48ed6228b2f",
        "trusted": true
      },
      "outputs": [
        {
          "name": "stdout",
          "output_type": "stream",
          "text": [
            "                                                   tweets  \\\n",
            "514293  i miss nikki nu nu already shes always there w...   \n",
            "142282  so i had a dream last night i remember a sign ...   \n",
            "403727  ohh poor sickly you hugs hope you feel a littl...   \n",
            "649503                                it is raining again   \n",
            "610789                         wish i was in la right now   \n",
            "\n",
            "                                         processed_tweets  \n",
            "514293  miss nikki nu nu already shes always need than...  \n",
            "142282  dream last night remember sign clearly told ge...  \n",
            "403727            ohh poor hug hope feel little well soon  \n",
            "649503                                               rain  \n",
            "610789                                      wish la right  \n"
          ]
        }
      ],
      "source": [
        "from collections import Counter\n",
        "\n",
        "# all words one list\n",
        "all_words = ' '.join(df_filtered['processed_tweets']).split()\n",
        "word_freq = pd.Series(all_words).value_counts()\n",
        "\n",
        "# words that frequent only once\n",
        "less_frequent = word_freq[word_freq == 1].index\n",
        "\n",
        "# cleaning\n",
        "df_filtered['processed_tweets'] = df_filtered['processed_tweets'].apply(lambda x: ' '.join(word for word in x.split() if word not in less_frequent))\n",
        "\n",
        "\n",
        "print(df_filtered[['tweets', 'processed_tweets']].head())"
      ]
    },
    {
      "cell_type": "markdown",
      "metadata": {
        "id": "Ji4MDlnFHTtm"
      },
      "source": [
        "## REMOVE DUBLICATED ROWS\n",
        "\n"
      ]
    },
    {
      "cell_type": "code",
      "execution_count": 45,
      "metadata": {
        "colab": {
          "base_uri": "https://localhost:8080/"
        },
        "execution": {
          "iopub.execute_input": "2025-04-03T21:47:20.866488Z",
          "iopub.status.busy": "2025-04-03T21:47:20.866113Z",
          "iopub.status.idle": "2025-04-03T21:47:20.876587Z",
          "shell.execute_reply": "2025-04-03T21:47:20.875052Z",
          "shell.execute_reply.started": "2025-04-03T21:47:20.86646Z"
        },
        "id": "cwaLzFObHTtm",
        "outputId": "bd11d4be-b146-4e6c-ee45-111dab16c7a5",
        "trusted": true
      },
      "outputs": [
        {
          "name": "stdout",
          "output_type": "stream",
          "text": [
            "Dublicated rows: 332\n"
          ]
        }
      ],
      "source": [
        "# dublicated rows\n",
        "duplicated_rows = df_filtered[df_filtered['processed_tweets'].duplicated()]\n",
        "\n",
        "print(f\"Dublicated rows: {duplicated_rows.shape[0]}\")"
      ]
    },
    {
      "cell_type": "code",
      "execution_count": 46,
      "metadata": {
        "colab": {
          "base_uri": "https://localhost:8080/"
        },
        "execution": {
          "iopub.execute_input": "2025-04-03T21:47:35.719462Z",
          "iopub.status.busy": "2025-04-03T21:47:35.719074Z",
          "iopub.status.idle": "2025-04-03T21:47:35.731504Z",
          "shell.execute_reply": "2025-04-03T21:47:35.729629Z",
          "shell.execute_reply.started": "2025-04-03T21:47:35.719436Z"
        },
        "id": "5VkL8J-xHTtm",
        "outputId": "42d18bb4-4f43-4c8f-fea7-46d4cd991452",
        "trusted": true
      },
      "outputs": [
        {
          "name": "stdout",
          "output_type": "stream",
          "text": [
            "Orijinal dataset size: 10000\n",
            "After remove dublicated rows dataset size: 9668\n"
          ]
        }
      ],
      "source": [
        "# drop dublicated rows\n",
        "df_filtered_unique = df_filtered.drop_duplicates(subset='processed_tweets')\n",
        "\n",
        "\n",
        "print(f\"Orijinal dataset size: {df_filtered.shape[0]}\")\n",
        "print(f\"After remove dublicated rows dataset size: {df_filtered_unique.shape[0]}\")"
      ]
    },
    {
      "cell_type": "code",
      "execution_count": 47,
      "metadata": {
        "execution": {
          "iopub.execute_input": "2025-04-03T21:47:48.089381Z",
          "iopub.status.busy": "2025-04-03T21:47:48.088995Z",
          "iopub.status.idle": "2025-04-03T21:47:48.094179Z",
          "shell.execute_reply": "2025-04-03T21:47:48.093051Z",
          "shell.execute_reply.started": "2025-04-03T21:47:48.08935Z"
        },
        "id": "pkGTzKydHTtn",
        "trusted": true
      },
      "outputs": [],
      "source": [
        "# updated DataFrame\n",
        "df_filtered = df_filtered_unique"
      ]
    },
    {
      "cell_type": "markdown",
      "metadata": {
        "id": "oQ4z45gsHTtn"
      },
      "source": [
        "**Target variable adjustment**"
      ]
    },
    {
      "cell_type": "code",
      "execution_count": 48,
      "metadata": {
        "colab": {
          "base_uri": "https://localhost:8080/"
        },
        "execution": {
          "iopub.execute_input": "2025-04-03T21:48:01.027499Z",
          "iopub.status.busy": "2025-04-03T21:48:01.027146Z",
          "iopub.status.idle": "2025-04-03T21:48:01.036574Z",
          "shell.execute_reply": "2025-04-03T21:48:01.035292Z",
          "shell.execute_reply.started": "2025-04-03T21:48:01.027472Z"
        },
        "id": "no6rEdsDHTtn",
        "outputId": "adb7f95c-2139-4719-bea1-d6fcf7f29da9",
        "trusted": true
      },
      "outputs": [
        {
          "name": "stdout",
          "output_type": "stream",
          "text": [
            "514293    0\n",
            "142282    0\n",
            "403727    0\n",
            "649503    0\n",
            "610789    0\n",
            "Name: sentiment, dtype: int64\n"
          ]
        }
      ],
      "source": [
        "# change sentiment values positive 4 to 1\n",
        "df_filtered['sentiment'] = df_filtered['sentiment'].replace(4, 1)\n",
        "\n",
        "print(df_filtered['sentiment'].head())"
      ]
    },
    {
      "cell_type": "markdown",
      "metadata": {
        "id": "J95E7BwEHTtn"
      },
      "source": [
        "**Converting Texts to Numerical Vectors**\n",
        "\n",
        "The **TF-IDF (Term Frequency-Inverse Document Frequency)** transformation converts text data into a numerical format, allowing models to better understand text and make more effective predictions for processing."
      ]
    },
    {
      "cell_type": "code",
      "execution_count": 49,
      "metadata": {
        "execution": {
          "iopub.execute_input": "2025-04-03T21:48:24.531933Z",
          "iopub.status.busy": "2025-04-03T21:48:24.531495Z",
          "iopub.status.idle": "2025-04-03T21:48:24.816177Z",
          "shell.execute_reply": "2025-04-03T21:48:24.815103Z",
          "shell.execute_reply.started": "2025-04-03T21:48:24.531899Z"
        },
        "id": "zXm-iLx6HTto",
        "trusted": true
      },
      "outputs": [],
      "source": [
        "from sklearn.feature_extraction.text import TfidfVectorizer\n",
        "\n",
        "# TF-IDF vekctorizer object\n",
        "vectorizer = TfidfVectorizer()\n",
        "\n",
        "X = vectorizer.fit_transform(df_filtered['processed_tweets'])"
      ]
    },
    {
      "cell_type": "code",
      "execution_count": 50,
      "metadata": {
        "colab": {
          "base_uri": "https://localhost:8080/"
        },
        "execution": {
          "iopub.execute_input": "2025-04-03T21:48:38.435045Z",
          "iopub.status.busy": "2025-04-03T21:48:38.434586Z",
          "iopub.status.idle": "2025-04-03T21:48:38.444634Z",
          "shell.execute_reply": "2025-04-03T21:48:38.443117Z",
          "shell.execute_reply.started": "2025-04-03T21:48:38.435012Z"
        },
        "id": "d4Mbqnk5HTto",
        "outputId": "f8888ba3-9f3b-4054-be69-e2df01e18064",
        "trusted": true
      },
      "outputs": [
        {
          "name": "stdout",
          "output_type": "stream",
          "text": [
            "processed_tweets\n",
            "<class 'str'>    9668\n",
            "Name: count, dtype: int64\n"
          ]
        }
      ],
      "source": [
        "# data type\n",
        "print(df_filtered['processed_tweets'].apply(type).value_counts())"
      ]
    },
    {
      "cell_type": "markdown",
      "metadata": {
        "id": "9E8REhEfHTto"
      },
      "source": [
        "# DATA VISUALIZATION\n"
      ]
    },
    {
      "cell_type": "markdown",
      "metadata": {
        "id": "qvtQ7O6XHTtp"
      },
      "source": [
        "## Sentiment Distribution Analysis"
      ]
    },
    {
      "cell_type": "code",
      "execution_count": 51,
      "metadata": {
        "colab": {
          "base_uri": "https://localhost:8080/",
          "height": 599
        },
        "execution": {
          "iopub.execute_input": "2025-04-03T21:48:58.072963Z",
          "iopub.status.busy": "2025-04-03T21:48:58.072578Z",
          "iopub.status.idle": "2025-04-03T21:48:58.28646Z",
          "shell.execute_reply": "2025-04-03T21:48:58.285372Z",
          "shell.execute_reply.started": "2025-04-03T21:48:58.072933Z"
        },
        "id": "6kOjs8A9HTtp",
        "outputId": "69c6a10a-56ea-427e-fd8b-6790c3c55c61",
        "trusted": true
      },
      "outputs": [
        {
          "data": {
            "image/png": "[encoded data removed]",
            "text/plain": [
              "<Figure size 700x700 with 1 Axes>"
            ]
          },
          "metadata": {},
          "output_type": "display_data"
        }
      ],
      "source": [
        "# sentiment distribution\n",
        "sentiment_counts = df_filtered['sentiment'].value_counts()\n",
        "\n",
        "# tags\n",
        "labels = {\n",
        "    0: 'Negative',\n",
        "    1: 'Positive'\n",
        "}\n",
        "\n",
        "# tags list\n",
        "custom_labels = [labels.get(x, str(x)) for x in sentiment_counts.index]\n",
        "\n",
        "# colors\n",
        "colors = ('violet', 'blue')\n",
        "\n",
        "# pie chart\n",
        "plt.figure(figsize=(7, 7))\n",
        "plt.pie(sentiment_counts, labels=custom_labels, colors=colors, autopct='%1.1f%%', startangle=140)\n",
        "plt.title(\"Sentiment Distribution\", size=14)\n",
        "plt.show()"
      ]
    },
    {
      "cell_type": "markdown",
      "metadata": {
        "id": "OTRwaoV1HTtq"
      },
      "source": [
        "The pie chart illustrates the distribution of sentiments in the dataset. The distribution is as follows:\n",
        "\n",
        "* Positive Sentiments: 49.4%\n",
        "* Negative Sentiments: 50.6%\n",
        "  \n",
        "This near-even split between positive and negative sentiments indicates a balanced representation of opinions within the dataset."
      ]
    },
    {
      "cell_type": "markdown",
      "metadata": {
        "id": "zLSJ_yYdHTts"
      },
      "source": [
        "## Relationship Between Sentiment and Tweet Length"
      ]
    },
    {
      "cell_type": "code",
      "execution_count": 53,
      "metadata": {
        "execution": {
          "iopub.execute_input": "2025-04-03T21:49:40.484244Z",
          "iopub.status.busy": "2025-04-03T21:49:40.483531Z",
          "iopub.status.idle": "2025-04-03T21:49:40.494368Z",
          "shell.execute_reply": "2025-04-03T21:49:40.492937Z",
          "shell.execute_reply.started": "2025-04-03T21:49:40.484206Z"
        },
        "id": "XG7nd3nZHTtt",
        "trusted": true
      },
      "outputs": [],
      "source": [
        "# group lengths by emotion labels\n",
        "\n",
        "df_filtered['text_length'] = df_filtered['processed_tweets'].apply(len)"
      ]
    },
    {
      "cell_type": "code",
      "execution_count": 54,
      "metadata": {
        "colab": {
          "base_uri": "https://localhost:8080/",
          "height": 564
        },
        "execution": {
          "iopub.execute_input": "2025-04-03T21:49:56.03996Z",
          "iopub.status.busy": "2025-04-03T21:49:56.039533Z",
          "iopub.status.idle": "2025-04-03T21:49:56.445208Z",
          "shell.execute_reply": "2025-04-03T21:49:56.444077Z",
          "shell.execute_reply.started": "2025-04-03T21:49:56.039927Z"
        },
        "id": "sJE2OZKTHTtt",
        "outputId": "8b95ad6b-f318-43ee-e798-92b883bc1b4d",
        "trusted": true
      },
      "outputs": [
        {
          "data": {
            "image/png": "[encoded data removed]",
            "text/plain": [
              "<Figure size 1200x600 with 1 Axes>"
            ]
          },
          "metadata": {},
          "output_type": "display_data"
        }
      ],
      "source": [
        "plt.figure(figsize=(12, 6))\n",
        "for sentiment in df_filtered['sentiment'].unique():\n",
        "    subset = df_filtered[df_filtered['sentiment'] == sentiment]\n",
        "    plt.hist(subset['text_length'], bins=50, alpha=0.5, label=f'Sentiment {sentiment}')\n",
        "\n",
        "plt.title('Relationship Between Sentiment and Tweet Length')\n",
        "plt.xlabel('Tweet Length')\n",
        "plt.ylabel('Frequency')\n",
        "plt.legend()\n",
        "plt.show()"
      ]
    },
    {
      "cell_type": "markdown",
      "metadata": {
        "id": "NmltY1psHTtt"
      },
      "source": [
        "According to the graph, increasing tweet length affects positive and negative tweet length. While tweet length is between 0 - 80, positive tweet frequency is between 0 - 200. Short tweets, which are noticed from the brown part, contain more positivity."
      ]
    },
    {
      "cell_type": "markdown",
      "metadata": {
        "id": "7QcTqE0SHTtt"
      },
      "source": [
        "## Sentiment Distribution of Users"
      ]
    },
    {
      "cell_type": "code",
      "execution_count": 55,
      "metadata": {
        "execution": {
          "iopub.execute_input": "2025-04-03T21:50:15.253446Z",
          "iopub.status.busy": "2025-04-03T21:50:15.252974Z",
          "iopub.status.idle": "2025-04-03T21:50:15.287223Z",
          "shell.execute_reply": "2025-04-03T21:50:15.28587Z",
          "shell.execute_reply.started": "2025-04-03T21:50:15.253414Z"
        },
        "id": "fHQBxhJNHTtu",
        "trusted": true
      },
      "outputs": [],
      "source": [
        "# for sentiment distribution per user\n",
        "# df_sampled was used to access usernames\n",
        "\n",
        "top_users = df_sampled['user'].value_counts().head(10).index\n",
        "top_users_df = df_sampled[df_sampled['user'].isin(top_users)]"
      ]
    },
    {
      "cell_type": "code",
      "execution_count": 56,
      "metadata": {
        "execution": {
          "iopub.execute_input": "2025-04-03T21:50:31.243165Z",
          "iopub.status.busy": "2025-04-03T21:50:31.242731Z",
          "iopub.status.idle": "2025-04-03T21:50:31.267956Z",
          "shell.execute_reply": "2025-04-03T21:50:31.266732Z",
          "shell.execute_reply.started": "2025-04-03T21:50:31.243137Z"
        },
        "id": "EMayxf4qHTtv",
        "trusted": true
      },
      "outputs": [],
      "source": [
        "# sentiment data\n",
        "user_sentiment = top_users_df.groupby('user')['sentiment'].value_counts().unstack()"
      ]
    },
    {
      "cell_type": "markdown",
      "metadata": {
        "id": "tcFn-K-IHTtw"
      },
      "source": [
        "The **user_sentiment** DataFrame contains the frequencies of sentiment analysis results for each user, with each sentiment analysis result as a column. It is useful for better understanding and comparing sentiment analysis results of users."
      ]
    },
    {
      "cell_type": "code",
      "execution_count": 57,
      "metadata": {
        "colab": {
          "base_uri": "https://localhost:8080/",
          "height": 799
        },
        "execution": {
          "iopub.execute_input": "2025-04-03T21:50:47.571042Z",
          "iopub.status.busy": "2025-04-03T21:50:47.570622Z",
          "iopub.status.idle": "2025-04-03T21:50:47.982866Z",
          "shell.execute_reply": "2025-04-03T21:50:47.981542Z",
          "shell.execute_reply.started": "2025-04-03T21:50:47.571003Z"
        },
        "id": "Xrn_RxvvHTtx",
        "outputId": "62e2b834-f945-47c0-f231-46d2c64b0923",
        "trusted": true
      },
      "outputs": [
        {
          "data": {
            "image/png": "[encoded data removed]",
            "text/plain": [
              "<Figure size 1400x800 with 1 Axes>"
            ]
          },
          "metadata": {},
          "output_type": "display_data"
        }
      ],
      "source": [
        "# visualization\n",
        "user_sentiment.plot(kind='bar', stacked=True, figsize=(14, 8), color = ['pink', 'purple'])\n",
        "plt.title('Sentiment Distribution of Most Popular Users')\n",
        "plt.xlabel('Users')\n",
        "plt.ylabel('Tweets')\n",
        "plt.legend(title='Sentiment', labels=['Negative', 'Positive'])\n",
        "plt.xticks(rotation=45)\n",
        "plt.show()"
      ]
    },
    {
      "cell_type": "markdown",
      "metadata": {
        "id": "YKtKq0amHTtx"
      },
      "source": [
        "According to the graph, the tweets of the top 10 users generally contain positive sentiment.\n",
        "\n"
      ]
    },
    {
      "cell_type": "markdown",
      "metadata": {
        "id": "7WfpyVpuHTty"
      },
      "source": [
        "# OUTLIER\n",
        "\n",
        "Outliers are data points that differ significantly from the overall distribution of the data set. These values ​​usually show deviations from the \"normal\" distribution in the data set."
      ]
    },
    {
      "cell_type": "code",
      "execution_count": 58,
      "metadata": {
        "colab": {
          "base_uri": "https://localhost:8080/"
        },
        "execution": {
          "iopub.execute_input": "2025-04-03T21:51:07.510577Z",
          "iopub.status.busy": "2025-04-03T21:51:07.510238Z",
          "iopub.status.idle": "2025-04-03T21:51:07.53939Z",
          "shell.execute_reply": "2025-04-03T21:51:07.537954Z",
          "shell.execute_reply.started": "2025-04-03T21:51:07.510551Z"
        },
        "id": "o1tII3bOHTty",
        "outputId": "28137a53-a8b3-4b00-c066-3ad7e277c679",
        "trusted": true
      },
      "outputs": [
        {
          "name": "stdout",
          "output_type": "stream",
          "text": [
            "         sentiment                                             tweets  \\\n",
            "1454155          1  hi peeps another sunny day in northern ireland...   \n",
            "1151747          1  sooooo rugby was fing awesome sunburnt face gu...   \n",
            "625351           0  anyone else waking up early tomorrow for new i...   \n",
            "232036           0  sat in the airport lounge waiting to go home s...   \n",
            "1349603          1  mcflyforgermany mcflyforgermany mcflyforgerman...   \n",
            "1090936          1  secondstomars marsiscoming secondstomars marsi...   \n",
            "382398           0  soo bored on a saturday night gotta wake up at...   \n",
            "115941           0  tomorrows schedule off to see another educatio...   \n",
            "764393           0  music not another bad eye if it gets really ba...   \n",
            "1485681          1  haha yes im in high school and yes i still wat...   \n",
            "1193871          1  im chillin tired jus got finish eatin prolly b...   \n",
            "40989            0  can someone recommend a good usb flash drive t...   \n",
            "1220987          1  mileymonday mileymonday mileymonday mileymonda...   \n",
            "986917           1  my year old cousin left his nintendo dsi at my...   \n",
            "1194021          1  breakthrough performance female  miley cyrus b...   \n",
            "730033           0  down one spot happybdaykrisallen happybdaykris...   \n",
            "126467           0  anyone know useful stuff for someone switching...   \n",
            "136571           0  hungover headache today got paid today  more d...   \n",
            "145485           0  read bbc story scottish teacher tweeter conf p...   \n",
            "1390689          1  time to relax weve got all sorts of tech goodi...   \n",
            "420278           0  wtf when i changed my display name my twitpic ...   \n",
            "725299           0  bad day stayed up late making business cards t...   \n",
            "\n",
            "                                                     words  \\\n",
            "1454155  [hi, peeps, another, sunny, day, in, northern,...   \n",
            "1151747  [sooooo, rugby, was, fing, awesome, sunburnt, ...   \n",
            "625351   [anyone, else, waking, up, early, tomorrow, fo...   \n",
            "232036   [sat, in, the, airport, lounge, waiting, to, g...   \n",
            "1349603  [mcflyforgermany, mcflyforgermany, mcflyforger...   \n",
            "1090936  [secondstomars, marsiscoming, secondstomars, m...   \n",
            "382398   [soo, bored, on, a, saturday, night, got, ta, ...   \n",
            "115941   [tomorrows, schedule, off, to, see, another, e...   \n",
            "764393   [music, not, another, bad, eye, if, it, gets, ...   \n",
            "1485681  [haha, yes, im, in, high, school, and, yes, i,...   \n",
            "1193871  [im, chillin, tired, jus, got, finish, eatin, ...   \n",
            "40989    [can, someone, recommend, a, good, usb, flash,...   \n",
            "1220987  [mileymonday, mileymonday, mileymonday, mileym...   \n",
            "986917   [my, year, old, cousin, left, his, nintendo, d...   \n",
            "1194021  [breakthrough, performance, female, miley, cyr...   \n",
            "730033   [down, one, spot, happybdaykrisallen, happybda...   \n",
            "126467   [anyone, know, useful, stuff, for, someone, sw...   \n",
            "136571   [hungover, headache, today, got, paid, today, ...   \n",
            "145485   [read, bbc, story, scottish, teacher, tweeter,...   \n",
            "1390689  [time, to, relax, weve, got, all, sorts, of, t...   \n",
            "420278   [wtf, when, i, changed, my, display, name, my,...   \n",
            "725299   [bad, day, stayed, up, late, making, business,...   \n",
            "\n",
            "                                             words_cleaned  \\\n",
            "1454155  [hi, peeps, another, sunny, day, northern, ire...   \n",
            "1151747  [sooooo, rugby, fing, awesome, sunburnt, face,...   \n",
            "625351   [anyone, else, waking, early, tomorrow, new, i...   \n",
            "232036   [sat, airport, lounge, waiting, go, home, glad...   \n",
            "1349603  [mcflyforgermany, mcflyforgermany, mcflyforger...   \n",
            "1090936  [secondstomars, marsiscoming, secondstomars, m...   \n",
            "382398   [soo, bored, saturday, night, got, ta, wake, f...   \n",
            "115941   [tomorrows, schedule, see, another, education,...   \n",
            "764393   [music, another, bad, eye, gets, really, bad, ...   \n",
            "1485681  [haha, yes, im, high, school, yes, still, watc...   \n",
            "1193871  [im, chillin, tired, jus, got, finish, eatin, ...   \n",
            "40989    [someone, recommend, good, usb, flash, drive, ...   \n",
            "1220987  [mileymonday, mileymonday, mileymonday, mileym...   \n",
            "986917   [year, old, cousin, left, nintendo, dsi, house...   \n",
            "1194021  [breakthrough, performance, female, miley, cyr...   \n",
            "730033   [one, spot, happybdaykrisallen, happybdaykrisa...   \n",
            "126467   [anyone, know, useful, stuff, someone, switchi...   \n",
            "136571   [hungover, headache, today, got, paid, today, ...   \n",
            "145485   [read, bbc, story, scottish, teacher, tweeter,...   \n",
            "1390689  [time, relax, weve, got, sorts, tech, goodies,...   \n",
            "420278   [wtf, changed, display, name, twitpic, address...   \n",
            "725299   [bad, day, stayed, late, making, business, car...   \n",
            "\n",
            "                                          words_lemmatized  \\\n",
            "1454155  [hi, peep, another, sunny, day, northern, irel...   \n",
            "1151747  [sooooo, rugby, fing, awesome, sunburnt, face,...   \n",
            "625351   [anyone, else, wake, early, tomorrow, new, iph...   \n",
            "232036   [sat, airport, lounge, wait, go, home, glad, d...   \n",
            "1349603  [mcflyforgermany, mcflyforgermany, mcflyforger...   \n",
            "1090936  [secondstomars, marsiscoming, secondstomars, m...   \n",
            "382398   [soo, bore, saturday, night, get, ta, wake, fo...   \n",
            "115941   [tomorrow, schedule, see, another, education, ...   \n",
            "764393   [music, another, bad, eye, get, really, bad, m...   \n",
            "1485681  [haha, yes, im, high, school, yes, still, watc...   \n",
            "1193871  [im, chillin, tire, jus, get, finish, eatin, p...   \n",
            "40989    [someone, recommend, good, usb, flash, drive, ...   \n",
            "1220987  [mileymonday, mileymonday, mileymonday, mileym...   \n",
            "986917   [year, old, cousin, left, nintendo, dsi, house...   \n",
            "1194021  [breakthrough, performance, female, miley, cyr...   \n",
            "730033   [one, spot, happybdaykrisallen, happybdaykrisa...   \n",
            "126467   [anyone, know, useful, stuff, someone, switch,...   \n",
            "136571   [hungover, headache, today, get, paid, today, ...   \n",
            "145485   [read, bbc, story, scottish, teacher, tweeter,...   \n",
            "1390689  [time, relax, weve, get, sort, tech, goody, la...   \n",
            "420278   [wtf, change, display, name, twitpic, address,...   \n",
            "725299   [bad, day, stayed, late, make, business, card,...   \n",
            "\n",
            "                                          processed_tweets  text_length  \n",
            "1454155  hi peep another sunny day northern ireland mak...          104  \n",
            "1151747  sooooo rugby fing awesome sunburnt face guy ge...          100  \n",
            "625351   anyone else wake early tomorrow new iphone gue...           97  \n",
            "232036   sat airport lounge wait go home glad diversity...          104  \n",
            "1349603  mcflyforgermany mcflyforgermany mcflyforgerman...          127  \n",
            "1090936  secondstomars marsiscoming secondstomars marsi...          107  \n",
            "382398   soo bore saturday night get ta wake food amp w...           95  \n",
            "115941   tomorrow schedule see another education want e...           97  \n",
            "764393   music another bad eye get really bad make sure...           95  \n",
            "1485681  haha yes im high school yes still watch disney...           95  \n",
            "1193871  im chillin tire jus get finish eatin prolly bo...          104  \n",
            "40989    someone recommend good usb flash drive thats p...          121  \n",
            "1220987  mileymonday mileymonday mileymonday mileymonda...          119  \n",
            "986917   year old cousin left nintendo dsi house yester...           98  \n",
            "1194021  performance female miley cyrus best song movie...           95  \n",
            "730033   one spot happybdaykrisallen happybdaykrisallen...          122  \n",
            "126467   anyone know useful stuff someone switch window...          102  \n",
            "136571   hungover headache today get paid today drinkin...           97  \n",
            "145485   read bbc story scottish teacher tweeter conf d...           99  \n",
            "1390689  time relax weve get sort tech goody laptop dvd...           96  \n",
            "420278   wtf change display name twitpic address change...           96  \n",
            "725299   bad day stayed late make business card tire wo...          111  \n"
          ]
        }
      ],
      "source": [
        "from scipy import stats\n",
        "\n",
        "\n",
        "# Z-Score\n",
        "z_scores = stats.zscore(df_filtered['text_length'])\n",
        "\n",
        "# outliers\n",
        "outliers = df_filtered[abs(z_scores) > 3]\n",
        "print(outliers)"
      ]
    },
    {
      "cell_type": "code",
      "execution_count": 59,
      "metadata": {
        "colab": {
          "base_uri": "https://localhost:8080/",
          "height": 487
        },
        "execution": {
          "iopub.execute_input": "2025-04-03T21:51:28.479308Z",
          "iopub.status.busy": "2025-04-03T21:51:28.478791Z",
          "iopub.status.idle": "2025-04-03T21:51:28.875553Z",
          "shell.execute_reply": "2025-04-03T21:51:28.874171Z",
          "shell.execute_reply.started": "2025-04-03T21:51:28.479271Z"
        },
        "id": "O4OZOCeeHTtz",
        "outputId": "2e6c2d09-4b41-46d3-da53-2a3a6e31734a",
        "trusted": true
      },
      "outputs": [
        {
          "data": {
            "image/png": "[encoded data removed]",
            "text/plain": [
              "<Figure size 800x500 with 1 Axes>"
            ]
          },
          "metadata": {},
          "output_type": "display_data"
        }
      ],
      "source": [
        "# Distribution graph\n",
        "plt.figure(figsize=(8, 5))\n",
        "plt.scatter(df_filtered.index, df_filtered['text_length'], color='blue', label='Tweet Lengths')\n",
        "plt.scatter(outliers.index, outliers['text_length'], color='red', label='Outliers', marker='o', s=100)\n",
        "plt.title('TweetLengths and Outliers')\n",
        "plt.xlabel('Index')\n",
        "plt.ylabel('Tweet Lengths')\n",
        "plt.legend()\n",
        "plt.grid(True)\n",
        "plt.show()"
      ]
    },
    {
      "cell_type": "markdown",
      "metadata": {
        "id": "C-4ZVHwxHTtz"
      },
      "source": [
        "* Most are between 0 and 100 characters, and only a few tweets are over 100 characters. In this case, tweets over 100 characters are considered outliers, but very few are. This indicates that most tweets are within the standard length range.\n",
        "  \n",
        "* It indicates that the data is mostly concentrated around the mean, and outliers are rare. If tweet lengths are mostly concentrated in a certain range, with few data points falling outside this range, the data distribution may be homogeneous."
      ]
    },
    {
      "cell_type": "markdown",
      "metadata": {
        "id": "oW-gVhbwHTt0"
      },
      "source": [
        "## Algorithm Selection & Hyperparameter Optimization\n",
        "\n",
        "**Training and Test Data Separation**\n",
        "\n",
        "As a result of the **TfidfVectorizer** process above, a set of numerical features are obtained for each tweet. These **features are the independent variables** that the model needs to learn. Therefore, we call the matrix of vectors resulting from this transformation X. In other words, X contains the TF-IDF feature vectors of each text.\n",
        "\n",
        "\n",
        "vectorizer = TfidfVectorizer()\n",
        "\n",
        "X = vectorizer.fit_transform(df_filtered['processed_tweets'])\n"
      ]
    },
    {
      "cell_type": "code",
      "execution_count": 60,
      "metadata": {
        "colab": {
          "base_uri": "https://localhost:8080/"
        },
        "execution": {
          "iopub.execute_input": "2025-04-03T21:51:44.433833Z",
          "iopub.status.busy": "2025-04-03T21:51:44.433426Z",
          "iopub.status.idle": "2025-04-03T21:51:44.448726Z",
          "shell.execute_reply": "2025-04-03T21:51:44.446827Z",
          "shell.execute_reply.started": "2025-04-03T21:51:44.4338Z"
        },
        "id": "saRks5frHTt0",
        "outputId": "c5956b93-595e-48b9-fa16-9836cfcbeb99",
        "trusted": true
      },
      "outputs": [
        {
          "name": "stdout",
          "output_type": "stream",
          "text": [
            "Train set size: (7734, 4404)\n",
            "Test set size (1934, 4404)\n"
          ]
        }
      ],
      "source": [
        "from sklearn.model_selection import train_test_split\n",
        "\n",
        "# sentiment tags target variables\n",
        "y = df_filtered['sentiment']\n",
        "\n",
        "# Separate the training and test sets (training 80%, test 20%)\n",
        "X_train, X_test, y_train, y_test = train_test_split(X, y, test_size=0.2, random_state=42)\n",
        "\n",
        "print(\"Train set size:\", X_train.shape)\n",
        "print(\"Test set size\", X_test.shape)"
      ]
    },
    {
      "cell_type": "markdown",
      "metadata": {
        "id": "e_U0pHbEHTt0"
      },
      "source": [
        "# SUPERVISED LEARNING\n"
      ]
    },
    {
      "cell_type": "code",
      "execution_count": 61,
      "metadata": {
        "execution": {
          "iopub.execute_input": "2025-04-03T21:52:00.958391Z",
          "iopub.status.busy": "2025-04-03T21:52:00.958004Z",
          "iopub.status.idle": "2025-04-03T21:52:01.575493Z",
          "shell.execute_reply": "2025-04-03T21:52:01.574307Z",
          "shell.execute_reply.started": "2025-04-03T21:52:00.958362Z"
        },
        "id": "5C0oXRZWHTt0",
        "trusted": true
      },
      "outputs": [],
      "source": [
        "#import libraries\n",
        "\n",
        "from sklearn.model_selection import train_test_split, cross_validate\n",
        "from sklearn.preprocessing import StandardScaler\n",
        "from sklearn.metrics import classification_report, accuracy_score, confusion_matrix\n",
        "from sklearn.linear_model import LogisticRegression\n",
        "from sklearn.ensemble import RandomForestClassifier\n",
        "from sklearn.svm import SVC\n",
        "from xgboost import XGBClassifier"
      ]
    },
    {
      "cell_type": "code",
      "execution_count": 62,
      "metadata": {
        "execution": {
          "iopub.execute_input": "2025-04-03T21:52:15.243335Z",
          "iopub.status.busy": "2025-04-03T21:52:15.242904Z",
          "iopub.status.idle": "2025-04-03T21:52:15.249232Z",
          "shell.execute_reply": "2025-04-03T21:52:15.247596Z",
          "shell.execute_reply.started": "2025-04-03T21:52:15.243306Z"
        },
        "id": "cNmvjJQSHTt2",
        "trusted": true
      },
      "outputs": [],
      "source": [
        "classifiers = {\n",
        "    \"Logistic Regression\": LogisticRegression(),\n",
        "    \"Random Forest Classifier\": RandomForestClassifier(),\n",
        "    \"Support Vector Classifier\": SVC(),\n",
        "    \"XGBClassifier\": XGBClassifier()\n",
        "}"
      ]
    },
    {
      "cell_type": "markdown",
      "metadata": {
        "id": "B88dmINLHTt3"
      },
      "source": [
        "**MODEL TRAINING AND MEASURING SUCCESS METRICS WITH CROSS VALIDATION**"
      ]
    },
    {
      "cell_type": "code",
      "execution_count": 63,
      "metadata": {
        "colab": {
          "base_uri": "https://localhost:8080/"
        },
        "execution": {
          "iopub.execute_input": "2025-04-03T21:52:38.690951Z",
          "iopub.status.busy": "2025-04-03T21:52:38.690481Z",
          "iopub.status.idle": "2025-04-03T21:55:21.644123Z",
          "shell.execute_reply": "2025-04-03T21:55:21.643184Z",
          "shell.execute_reply.started": "2025-04-03T21:52:38.690917Z"
        },
        "id": "FaMFgS-JHTt3",
        "outputId": "66835ed8-c7d6-43a1-fdd9-05ee71755293",
        "trusted": true
      },
      "outputs": [
        {
          "name": "stdout",
          "output_type": "stream",
          "text": [
            "Model: LOGISTIC REGRESSION\n",
            "Accuracy Score: 0.72958\n",
            "Confusion Matrix:\n",
            "[[703 278]\n",
            " [245 708]]\n",
            "Classification Report:\n",
            "              precision    recall  f1-score   support\n",
            "\n",
            "           0       0.74      0.72      0.73       981\n",
            "           1       0.72      0.74      0.73       953\n",
            "\n",
            "    accuracy                           0.73      1934\n",
            "   macro avg       0.73      0.73      0.73      1934\n",
            "weighted avg       0.73      0.73      0.73      1934\n",
            "\n",
            "Cross-Validation Scores:\n",
            "fit_time          0.05568\n",
            "score_time        0.01046\n",
            "test_accuracy     0.72873\n",
            "test_precision    0.72461\n",
            "test_recall       0.73403\n",
            "test_f1           0.72924\n",
            "dtype: object\n",
            "\n",
            "############################################################################\n",
            "\n",
            "Model: RANDOM FOREST CLASSIFIER\n",
            "Accuracy Score: 0.71458\n",
            "Confusion Matrix:\n",
            "[[688 293]\n",
            " [259 694]]\n",
            "Classification Report:\n",
            "              precision    recall  f1-score   support\n",
            "\n",
            "           0       0.73      0.70      0.71       981\n",
            "           1       0.70      0.73      0.72       953\n",
            "\n",
            "    accuracy                           0.71      1934\n",
            "   macro avg       0.71      0.71      0.71      1934\n",
            "weighted avg       0.71      0.71      0.71      1934\n",
            "\n",
            "Cross-Validation Scores:\n",
            "fit_time          10.57347\n",
            "score_time         0.09875\n",
            "test_accuracy      0.70908\n",
            "test_precision     0.70045\n",
            "test_recall        0.72649\n",
            "test_f1            0.71317\n",
            "dtype: object\n",
            "\n",
            "############################################################################\n",
            "\n",
            "Model: SUPPORT VECTOR CLASSIFIER\n",
            "Accuracy Score: 0.72802\n",
            "Confusion Matrix:\n",
            "[[700 281]\n",
            " [245 708]]\n",
            "Classification Report:\n",
            "              precision    recall  f1-score   support\n",
            "\n",
            "           0       0.74      0.71      0.73       981\n",
            "           1       0.72      0.74      0.73       953\n",
            "\n",
            "    accuracy                           0.73      1934\n",
            "   macro avg       0.73      0.73      0.73      1934\n",
            "weighted avg       0.73      0.73      0.73      1934\n",
            "\n",
            "Cross-Validation Scores:\n",
            "fit_time          4.47281\n",
            "score_time        0.34842\n",
            "test_accuracy     0.72692\n",
            "test_precision    0.72096\n",
            "test_recall       0.73636\n",
            "test_f1           0.72852\n",
            "dtype: object\n",
            "\n",
            "############################################################################\n",
            "\n",
            "Model: XGBCLASSIFIER\n",
            "Accuracy Score: 0.70424\n",
            "Confusion Matrix:\n",
            "[[621 360]\n",
            " [212 741]]\n",
            "Classification Report:\n",
            "              precision    recall  f1-score   support\n",
            "\n",
            "           0       0.75      0.63      0.68       981\n",
            "           1       0.67      0.78      0.72       953\n",
            "\n",
            "    accuracy                           0.70      1934\n",
            "   macro avg       0.71      0.71      0.70      1934\n",
            "weighted avg       0.71      0.70      0.70      1934\n",
            "\n",
            "Cross-Validation Scores:\n",
            "fit_time          2.22606\n",
            "score_time        0.01559\n",
            "test_accuracy     0.69886\n",
            "test_precision    0.67656\n",
            "test_recall       0.75740\n",
            "test_f1           0.71462\n",
            "dtype: object\n",
            "\n",
            "############################################################################\n",
            "\n"
          ]
        }
      ],
      "source": [
        "for name, classifier in classifiers.items():\n",
        "    # train model\n",
        "    classifier.fit(X_train, y_train)\n",
        "\n",
        "    # predictions test set\n",
        "    y_test_pred = classifier.predict(X_test)\n",
        "\n",
        "    # performance metrics\n",
        "    accuracy = accuracy_score(y_test, y_test_pred)\n",
        "    conf_matrix = confusion_matrix(y_test, y_test_pred)\n",
        "    class_report = classification_report(y_test, y_test_pred)\n",
        "\n",
        "    # cross validation\n",
        "    scores = cross_validate(classifier, X_train, y_train,\n",
        "                            scoring=['accuracy', 'precision', 'recall', 'f1'],\n",
        "                            cv=10, return_train_score=False)\n",
        "\n",
        "    # result to DataFrame\n",
        "    scores_df = pd.DataFrame(scores)\n",
        "\n",
        "    print(f\"Model: {name.upper()}\")\n",
        "    print(f\"Accuracy Score: {accuracy:.5f}\")\n",
        "    print(\"Confusion Matrix:\")\n",
        "    print(conf_matrix)\n",
        "    print(\"Classification Report:\")\n",
        "    print(class_report)\n",
        "    print(\"Cross-Validation Scores:\")\n",
        "    print(scores_df.mean().apply(\"{:.5f}\".format))  # avg\n",
        "    print(\"\\n############################################################################\\n\")"
      ]
    },
    {
      "cell_type": "markdown",
      "metadata": {
        "id": "Czy9cTmmHTt3"
      },
      "source": [
        "## MODEL SELECTION\n",
        "\n",
        "**Logistic Regression (LR)**\n",
        "\n",
        "* Accuracy: 72.4%\n",
        "* Risk of Overfitting: Lower.\n",
        "* Training Time: Faster.\n",
        "* Interpretability: Higher.\n",
        "* Precision and Recall:\n",
        "* 71% precision, 74% recall for class 0;\n",
        "* 73% precision, 71% recall for class 1.\n",
        "\n",
        "\n",
        "**Support Vector Classifier (SVC)**\n",
        "\n",
        "* Accuracy: 71.78%\n",
        "* Risk of Overfitting: May be higher.\n",
        "* Training Time: Longer.\n",
        "* Interpretability: Lower.\n",
        "* Precision and Recall:\n",
        "* 71% precision, 73% recall for class 0;\n",
        "* 73% precision, 70% recall for class 1.\n",
        "\n",
        "**Logistic Regression** model due to its interpretability, speed, and lower risk of overfitting. This model offers more advantages and can provide more understandable results. It is a balanced choice in terms of both performance and practicality."
      ]
    },
    {
      "cell_type": "markdown",
      "metadata": {
        "id": "-kTk4btHHTt4"
      },
      "source": [
        "# HYPERPARAMETER OPTIMIZATION\n",
        "\n",
        "**Randomized Search** has been chosen due to its **efficiency, wide coverage, global optimization capability, minimal assumptions, and speed**. This method offers the potential for more effective results in hyperparameter optimization."
      ]
    },
    {
      "cell_type": "code",
      "execution_count": 64,
      "metadata": {
        "execution": {
          "iopub.execute_input": "2025-04-03T21:55:49.907002Z",
          "iopub.status.busy": "2025-04-03T21:55:49.906535Z",
          "iopub.status.idle": "2025-04-03T21:55:49.912534Z",
          "shell.execute_reply": "2025-04-03T21:55:49.911229Z",
          "shell.execute_reply.started": "2025-04-03T21:55:49.906967Z"
        },
        "id": "oS2B4T8SHTt5",
        "trusted": true
      },
      "outputs": [],
      "source": [
        "#import library\n",
        "from sklearn.model_selection import RandomizedSearchCV"
      ]
    },
    {
      "cell_type": "code",
      "execution_count": 65,
      "metadata": {
        "colab": {
          "base_uri": "https://localhost:8080/"
        },
        "execution": {
          "iopub.execute_input": "2025-04-03T21:56:09.440581Z",
          "iopub.status.busy": "2025-04-03T21:56:09.440178Z",
          "iopub.status.idle": "2025-04-03T21:56:37.330153Z",
          "shell.execute_reply": "2025-04-03T21:56:37.32859Z",
          "shell.execute_reply.started": "2025-04-03T21:56:09.440549Z"
        },
        "id": "Wc2-GCPBHTt5",
        "outputId": "c5b6c8a7-636e-4467-b7cc-c7c6d5e22189",
        "trusted": true
      },
      "outputs": [
        {
          "name": "stdout",
          "output_type": "stream",
          "text": [
            "Fitting 5 folds for each of 100 candidates, totalling 500 fits\n",
            "Best Parameters: {'solver': 'saga', 'max_iter': 100, 'C': np.float64(1.623776739188721)}\n",
            "Best Score: 0.7237266418825911\n"
          ]
        }
      ],
      "source": [
        "# hypermeter intervals\n",
        "param_distributions = {\n",
        "    'C': np.logspace(-4, 4, 20),\n",
        "    'solver': ['liblinear', 'saga'],\n",
        "    'max_iter': [100, 200, 300]\n",
        "}\n",
        "\n",
        "# model\n",
        "model = LogisticRegression()\n",
        "\n",
        "# RandomizedSearchCV object\n",
        "random_search = RandomizedSearchCV(\n",
        "    estimator=model,\n",
        "    param_distributions=param_distributions,\n",
        "    n_iter=100,\n",
        "    scoring='accuracy',\n",
        "    cv=5,\n",
        "    verbose=1,\n",
        "    random_state=42,\n",
        "    n_jobs=-1\n",
        ")\n",
        "\n",
        "# training model\n",
        "random_search.fit(X, y)\n",
        "\n",
        "print(\"Best Parameters:\", random_search.best_params_)\n",
        "print(\"Best Score:\", random_search.best_score_)"
      ]
    },
    {
      "cell_type": "markdown",
      "metadata": {
        "id": "NWTMNRTlHTt5"
      },
      "source": [
        "The results show that the model achieves **73.12% accuracy** with optimized hyperparameters.\n",
        "\n",
        "The **saga solver** and the determined **C value** have the potential to improve the performance of the model."
      ]
    },
    {
      "cell_type": "markdown",
      "metadata": {
        "id": "rs3QAr6bHTt6"
      },
      "source": [
        "**TRAINING THE MODEL**"
      ]
    },
    {
      "cell_type": "code",
      "execution_count": 66,
      "metadata": {
        "colab": {
          "base_uri": "https://localhost:8080/",
          "height": 783
        },
        "execution": {
          "iopub.execute_input": "2025-04-03T21:57:26.035986Z",
          "iopub.status.busy": "2025-04-03T21:57:26.035602Z",
          "iopub.status.idle": "2025-04-03T21:57:26.319452Z",
          "shell.execute_reply": "2025-04-03T21:57:26.318087Z",
          "shell.execute_reply.started": "2025-04-03T21:57:26.035958Z"
        },
        "id": "xZ_aUXugHTt6",
        "outputId": "f1c277d2-e514-4123-9e58-79cec62f16f0",
        "trusted": true
      },
      "outputs": [
        {
          "name": "stdout",
          "output_type": "stream",
          "text": [
            "Accuracy: 0.7384\n",
            "Classification Report:\n",
            "               precision    recall  f1-score   support\n",
            "\n",
            "           0       0.75      0.72      0.74       981\n",
            "           1       0.73      0.75      0.74       953\n",
            "\n",
            "    accuracy                           0.74      1934\n",
            "   macro avg       0.74      0.74      0.74      1934\n",
            "weighted avg       0.74      0.74      0.74      1934\n",
            "\n"
          ]
        },
        {
          "data": {
            "image/png": "[encoded data removed]",
            "text/plain": [
              "<Figure size 800x600 with 2 Axes>"
            ]
          },
          "metadata": {},
          "output_type": "display_data"
        },
        {
          "name": "stdout",
          "output_type": "stream",
          "text": [
            "Artifacts saved: model.pkl, vectorizer.pkl\n"
          ]
        }
      ],
      "source": [
        "\n",
        "# Best parameters with Logistic Regression Model\n",
        "model = LogisticRegression(solver='saga', max_iter=100, C=0.615848211066026)\n",
        "\n",
        "# training model\n",
        "model.fit(X_train, y_train)\n",
        "\n",
        "# prediction test set\n",
        "y_pred = model.predict(X_test)\n",
        "\n",
        "# performance metrics\n",
        "accuracy = accuracy_score(y_test, y_pred)\n",
        "report = classification_report(y_test, y_pred)\n",
        "conf_matrix = confusion_matrix(y_test, y_pred)\n",
        "\n",
        "print(f\"Accuracy: {accuracy:.4f}\")\n",
        "print(\"Classification Report:\\n\", report)\n",
        "\n",
        "# visualization confusion matrix\n",
        "plt.figure(figsize=(8, 6))\n",
        "sns.heatmap(conf_matrix, annot=True, fmt='d', cmap='Blues',\n",
        "            xticklabels=['Negative', 'Positive'],\n",
        "            yticklabels=['Negative', 'Positive'])\n",
        "plt.title('Confusion Matrix')\n",
        "plt.xlabel('Predicted')\n",
        "plt.ylabel('Actual')\n",
        "plt.show()\n",
        "\n",
        "\n",
        "\n",
        "import pickle\n",
        "\n",
        "# Save the vectorizer\n",
        "with open('vectorizer.pkl', 'wb') as f:\n",
        "    pickle.dump(vectorizer, f)\n",
        "\n",
        "# Save the trained model\n",
        "with open('model.pkl', 'wb') as f:\n",
        "    pickle.dump(model, f)\n",
        "\n",
        "print(\"Artifacts saved: model.pkl, vectorizer.pkl\")\n"
      ]
    },
    {
      "cell_type": "markdown",
      "metadata": {
        "id": "b3ZAAbsJHTt6"
      },
      "source": [
        "* **True Positives (TP)**: 696 (Correctly predicted positive instances)\n",
        "* **True Negatives (TN)**: 708 (Correctly predicted negative instances)\n",
        "* **False Positives (FP)**: 252 (Incorrectly predicted negative instances as positive)\n",
        "* **False Negatives (FN)**: 279 (Incorrectly predicted positive instances as negative)\n",
        "\n",
        "**Precision**:\n",
        "\n",
        "* For class 0: 0.72\n",
        "* For class 1: 0.73\n",
        "\n",
        "High precision indicates the proportion of true positive predictions out of total positive predictions.\n",
        "\n",
        "\n",
        "**Recall**:\n",
        "\n",
        "* For class 0: 0.74\n",
        "* For class 1: 0.71\n",
        "  \n",
        "High recall indicates how well the model captures actual positive instances.\n",
        "\n",
        "\n",
        "**F1-Score**:\n",
        "\n",
        "* For class 0: 0.73\n",
        "* For class 1: 0.72\n",
        "  \n",
        "The F1 score is the harmonic mean of precision and recall, providing a better measure in imbalanced datasets.\n",
        "\n",
        "**Accuracy**: 0.72 (approximately 72%)\n",
        "\n",
        "This represents the overall proportion of correctly predicted instances out of the total instances. The higher recall for class 1 indicates that the model identifies this class better, while the lower recall for class 0 suggests that some instances of this class are being misclassified as positive."
      ]
    }
  ],
  "metadata": {
    "accelerator": "GPU",
    "colab": {
      "gpuType": "T4",
      "name": "Tweets_Sentiment_Analysis 622284",
      "provenance": []
    },
    "kaggle": {
      "accelerator": "none",
      "dataSources": [
        {
          "datasetId": 2477,
          "sourceId": 4140,
          "sourceType": "datasetVersion"
        }
      ],
      "dockerImageVersionId": 30918,
      "isGpuEnabled": false,
      "isInternetEnabled": false,
      "language": "python",
      "sourceType": "notebook"
    },
    "kernelspec": {
      "display_name": "Python 3",
      "name": "python3"
    },
    "language_info": {
      "codemirror_mode": {
        "name": "ipython",
        "version": 3
      },
      "file_extension": ".py",
      "mimetype": "text/x-python",
      "name": "python",
      "nbconvert_exporter": "python",
      "pygments_lexer": "ipython3",
      "version": "3.10.12"
    }
  },
  "nbformat": 4,
  "nbformat_minor": 0
}
